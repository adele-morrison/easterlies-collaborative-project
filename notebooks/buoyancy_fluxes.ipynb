{
 "cells": [
  {
   "cell_type": "markdown",
   "metadata": {},
   "source": [
    "# Check buoyancy fluxes in easterly simulations"
   ]
  },
  {
   "cell_type": "code",
   "execution_count": 1,
   "metadata": {},
   "outputs": [],
   "source": [
    "%matplotlib inline\n",
    "\n",
    "import cosima_cookbook as cc\n",
    "import matplotlib.pyplot as plt\n",
    "import numpy as np\n",
    "import netCDF4 as nc\n",
    "import cartopy.crs as ccrs\n",
    "import xarray as xr\n",
    "import cmocean.cm as cmocean\n",
    "import glob\n",
    "from gsw import alpha, SA_from_SP, p_from_z, CT_from_pt, beta, sigma0,sigma1\n",
    "\n",
    "import logging\n",
    "logging.captureWarnings(True)\n",
    "logging.getLogger('py.warnings').setLevel(logging.ERROR)\n",
    "\n",
    "from dask.distributed import Client\n",
    "\n",
    "#figdir = '/g/data/v45/akm157/figures/Weddell_connectivity/SWMT/'"
   ]
  },
  {
   "cell_type": "code",
   "execution_count": 2,
   "metadata": {},
   "outputs": [
    {
     "data": {
      "text/html": [
       "<table style=\"border: 2px solid white;\">\n",
       "<tr>\n",
       "<td style=\"vertical-align: top; border: 0px solid white\">\n",
       "<h3 style=\"text-align: left;\">Client</h3>\n",
       "<ul style=\"text-align: left; list-style: none; margin: 0; padding: 0;\">\n",
       "  <li><b>Scheduler: </b>tcp://127.0.0.1:35425</li>\n",
       "  <li><b>Dashboard: </b><a href='/proxy/8787/status' target='_blank'>/proxy/8787/status</a></li>\n",
       "</ul>\n",
       "</td>\n",
       "<td style=\"vertical-align: top; border: 0px solid white\">\n",
       "<h3 style=\"text-align: left;\">Cluster</h3>\n",
       "<ul style=\"text-align: left; list-style:none; margin: 0; padding: 0;\">\n",
       "  <li><b>Workers: </b>8</li>\n",
       "  <li><b>Cores: </b>48</li>\n",
       "  <li><b>Memory: </b>188.57 GiB</li>\n",
       "</ul>\n",
       "</td>\n",
       "</tr>\n",
       "</table>"
      ],
      "text/plain": [
       "<Client: 'tcp://127.0.0.1:35425' processes=8 threads=48, memory=188.57 GiB>"
      ]
     },
     "execution_count": 2,
     "metadata": {},
     "output_type": "execute_result"
    }
   ],
   "source": [
    "#client = Client(n_workers=4)\n",
    "# >> dask-scheduler\n",
    "# >> dask-worker tcp://10.0.64.9:8786 --memory-limit 4e9 --nprocs 6 --nthreads 1 --local-directory /local/g40/amh157\n",
    "#client = Client('tcp://10.0.64.9:8786', local_dir='/local/g40/amh157')\n",
    "client = Client()\n",
    "client"
   ]
  },
  {
   "cell_type": "code",
   "execution_count": 3,
   "metadata": {},
   "outputs": [],
   "source": [
    "master_session = cc.database.create_session('/g/data/ik11/databases/cosima_master.db')\n",
    "control = '01deg_jra55v13_ryf9091'\n",
    "\n",
    "start_time='2150-01-01'\n",
    "end_time='2159-12-31'\n",
    "\n",
    "time_period = str(int(start_time[:4]))+'-'+str(int(end_time[:4]))\n",
    "\n",
    "lat_slice  = slice(-90,-59)"
   ]
  },
  {
   "cell_type": "code",
   "execution_count": 4,
   "metadata": {},
   "outputs": [],
   "source": [
    "session_name = '/g/data/v45/akm157/model_data/access-om2/01deg_jra55v13_ryf9091_easterlies_up10/easterlies.db'\n",
    "easterlies_session = cc.database.create_session(session_name)\n",
    "\n",
    "easterlies_up = '01deg_jra55v13_ryf9091_easterlies_up10'\n",
    "easterlies_up_noDSW = '01deg_jra55v13_ryf9091_easterlies_up10_noDSW'\n",
    "easterlies_down = '01deg_jra55v13_ryf9091_easterlies_down10'\n",
    "easterlies_up_zonal = '01deg_jra55v13_ryf9091_easterlies_up10_zonal'\n",
    "easterlies_up_meridional = '01deg_jra55v13_ryf9091_easterlies_up10_meridional'"
   ]
  },
  {
   "cell_type": "markdown",
   "metadata": {},
   "source": [
    "### Shelf masking:"
   ]
  },
  {
   "cell_type": "code",
   "execution_count": 5,
   "metadata": {},
   "outputs": [],
   "source": [
    "def shelf_mask_isobath(var):\n",
    "    contour_file = np.load('/g/data/ik11/grids/Antarctic_slope_contour_1000m.npz')\n",
    "    shelf_mask = contour_file['contour_masked_above']\n",
    "    yt_ocean = contour_file['yt_ocean']\n",
    "    xt_ocean = contour_file['xt_ocean']\n",
    "    # Mask values that are non-zero\n",
    "    shelf_mask[np.where(shelf_mask!=0)] = np.nan\n",
    "    shelf_mask = shelf_mask+1\n",
    "    shelf_map = np.nan_to_num(shelf_mask)\n",
    "    shelf_mask = xr.DataArray(shelf_mask, coords = [('yt_ocean', yt_ocean), ('xt_ocean', xt_ocean)])\n",
    "    shelf_map = xr.DataArray(shelf_map, coords = [('yt_ocean', yt_ocean), ('xt_ocean', xt_ocean)])\n",
    "    # Multiply the variable with the mask, we need to account for the shape of the mask. \n",
    "    # The mask uses a northern cutoff of 59S.\n",
    "    masked_var = var.sel(yt_ocean = slice(-90, -59.03)) * shelf_mask\n",
    "    return masked_var, shelf_map"
   ]
  },
  {
   "cell_type": "markdown",
   "metadata": {},
   "source": [
    "## Control:"
   ]
  },
  {
   "cell_type": "code",
   "execution_count": 6,
   "metadata": {},
   "outputs": [],
   "source": [
    "# conservative temperature\n",
    "SST = cc.querying.getvar(control, 'surface_temp', master_session, ncfile='ocean_month.nc',start_time=start_time, end_time=end_time) - 273.15\n",
    "SST = SST.sel(time=slice(start_time,end_time)).sel(yt_ocean=lat_slice)\n",
    "# Practical salinity, need to convert to absolute salinity\n",
    "SSS_PSU = cc.querying.getvar(control, 'surface_salt', master_session, ncfile='ocean_month.nc',start_time=start_time, end_time=end_time)\n",
    "SSS_PSU = SSS_PSU.sel(time=slice(start_time,end_time)).sel(yt_ocean=lat_slice)\n",
    "\n",
    "# Unfortunately net_sfc_heating diagnostic is incorrect/missing for these runs:\n",
    "#net_sfc_heating = cc.querying.getvar(control, 'net_sfc_heating', master_session, start_time=start_time, end_time=end_time)\n",
    "#net_sfc_heating = net_sfc_heating.sel(time=slice(start_time,end_time)).sel(yt_ocean=lat_slice)\n",
    "net_sfc_heating = cc.querying.getvar(control, 'sfc_hflux_from_runoff', master_session, start_time=start_time, end_time=end_time,ncfile='ocean_month.nc') +\\\n",
    "                    cc.querying.getvar(control, 'sfc_hflux_coupler', master_session, start_time=start_time, end_time=end_time,ncfile='ocean_month.nc') +\\\n",
    "                    cc.querying.getvar(control, 'sfc_hflux_pme', master_session, start_time=start_time, end_time=end_time,ncfile='ocean_month.nc') +\\\n",
    "                    cc.querying.getvar(control, 'frazil_3d_int_z', master_session, start_time=start_time, end_time=end_time,ncfile='ocean_month.nc')\n",
    "net_sfc_heating = net_sfc_heating.sel(time=slice(start_time,end_time)).sel(yt_ocean=lat_slice)\n",
    "\n",
    "# Mass flux of precipitation - evaporation + river runoff\n",
    "pme_river = cc.querying.getvar(control, 'pme_river', master_session, ncfile='ocean_month.nc',start_time=start_time, end_time=end_time)\n",
    "pme_river = pme_river.sel(time=slice(start_time,end_time)).sel(yt_ocean=lat_slice)\n",
    "# Salt flux from ice and restoring:\n",
    "salt_flux = cc.querying.getvar(control, 'sfc_salt_flux_ice', master_session, ncfile='ocean_month.nc',start_time=start_time, end_time=end_time) + \\\n",
    "            cc.querying.getvar(control, 'sfc_salt_flux_restore', master_session, ncfile='ocean_month.nc',start_time=start_time, end_time=end_time)\n",
    "salt_flux = salt_flux.sel(time=slice(start_time,end_time)).sel(yt_ocean=lat_slice)\n",
    "\n",
    "# Coordinates\n",
    "lon_t = cc.querying.getvar(control,'geolon_t',master_session, n=1)\n",
    "lon_t = lon_t.sel(yt_ocean=lat_slice)\n",
    "lat_t = cc.querying.getvar(control,'geolat_t',master_session, n=1)\n",
    "lat_t = lat_t.sel(yt_ocean=lat_slice)"
   ]
  },
  {
   "cell_type": "code",
   "execution_count": 8,
   "metadata": {},
   "outputs": [],
   "source": [
    "# limit to continental shelf region:\n",
    "SST  = shelf_mask_isobath(SST)[0]\n",
    "SSS_PSU = shelf_mask_isobath(SSS_PSU)[0]\n",
    "net_sfc_heating = shelf_mask_isobath(net_sfc_heating)[0]\n",
    "pme_river = shelf_mask_isobath(pme_river)[0]\n",
    "salt_flux = shelf_mask_isobath(salt_flux)[0]\n",
    "lon_t   = shelf_mask_isobath(lon_t)[0]\n",
    "lat_t   = shelf_mask_isobath(lat_t)[0]"
   ]
  },
  {
   "cell_type": "code",
   "execution_count": 9,
   "metadata": {},
   "outputs": [],
   "source": [
    "# Extract coordinate arrays:\n",
    "yt_ocean = SST.yt_ocean.values\n",
    "xt_ocean = SST.xt_ocean.values\n",
    "time_monthly = SST.time.values"
   ]
  },
  {
   "cell_type": "code",
   "execution_count": 10,
   "metadata": {},
   "outputs": [],
   "source": [
    "# convert to absolute salinity:\n",
    "\n",
    "st_ocean = cc.querying.getvar(control,'st_ocean',master_session,n=1)\n",
    "depth = st_ocean[0].values\n",
    "depth_tile = (lat_t*0+1)*depth\n",
    "pressure = xr.DataArray(p_from_z(depth_tile,lat_t), coords = [yt_ocean, xt_ocean], dims = ['yt_ocean', 'xt_ocean'], name = 'pressure', attrs = {'units':'dbar'})\n",
    "    \n",
    "# convert units to absolute salinity \n",
    "SSS = xr.DataArray(SA_from_SP(SSS_PSU,pressure,lon_t,lat_t), coords = [time_monthly, yt_ocean, xt_ocean], dims = ['time','yt_ocean', 'xt_ocean'], name = 'sea surface salinity', attrs = {'units':'Absolute Salinity (g/kg)'})"
   ]
  },
  {
   "cell_type": "code",
   "execution_count": 13,
   "metadata": {},
   "outputs": [
    {
     "name": "stderr",
     "output_type": "stream",
     "text": [
      "distributed.nanny - WARNING - Restarting worker\n"
     ]
    }
   ],
   "source": [
    "# Compute salt transformation (no density binning)\n",
    "haline_contraction  = xr.DataArray(beta(SSS, SST, pressure), coords = [time_monthly, yt_ocean, xt_ocean], dims = ['time','yt_ocean', 'xt_ocean'], name = 'saline contraction coefficient (constant conservative temp)', attrs = {'units':'kg/g'})\n",
    "salt_transformation = haline_contraction * SSS * (pme_river - salt_flux)\n",
    "\n",
    "# Compute heat transformation (no density binning)\n",
    "thermal_expansion = xr.DataArray(alpha(SSS, SST, pressure), coords = [time_monthly, yt_ocean, xt_ocean], dims = ['time','yt_ocean', 'xt_ocean'], name = 'thermal expansion coefficient (constant conservative temp)', attrs = {'units':'1/K'})\n",
    "c_p = 3992.1\n",
    "heat_transformation = thermal_expansion * net_sfc_heating / c_p"
   ]
  },
  {
   "cell_type": "code",
   "execution_count": 14,
   "metadata": {},
   "outputs": [],
   "source": [
    "# Compute climatology:\n",
    "\n",
    "salt_transformation = salt_transformation.groupby(\"time.month\").mean(\"time\")\n",
    "salt_transformation = salt_transformation.load()\n",
    "\n",
    "heat_transformation = heat_transformation.groupby(\"time.month\").mean(\"time\")\n",
    "heat_transformation = heat_transformation.load()"
   ]
  },
  {
   "cell_type": "code",
   "execution_count": 16,
   "metadata": {},
   "outputs": [],
   "source": [
    "# sum over area:\n",
    "\n",
    "area_t = cc.querying.getvar(control, 'area_t', master_session, n=1)\n",
    "\n",
    "salt_transformation_sum = (salt_transformation*area_t).sum(dim={'xt_ocean','yt_ocean'}).load()\n",
    "heat_transformation_sum = (heat_transformation*area_t).sum(dim={'xt_ocean','yt_ocean'}).load()"
   ]
  },
  {
   "cell_type": "code",
   "execution_count": 18,
   "metadata": {},
   "outputs": [
    {
     "data": {
      "text/plain": [
       "[<matplotlib.lines.Line2D at 0x14eb8212cb80>]"
      ]
     },
     "execution_count": 18,
     "metadata": {},
     "output_type": "execute_result"
    },
    {
     "data": {
      "image/png": "[encoded data removed]",
      "text/plain": [
       "<Figure size 640x480 with 1 Axes>"
      ]
     },
     "metadata": {},
     "output_type": "display_data"
    }
   ],
   "source": [
    "salt_transformation_sum.plot()"
   ]
  },
  {
   "cell_type": "code",
   "execution_count": 19,
   "metadata": {},
   "outputs": [
    {
     "data": {
      "text/plain": [
       "[<matplotlib.lines.Line2D at 0x14eab2ce1f40>]"
      ]
     },
     "execution_count": 19,
     "metadata": {},
     "output_type": "execute_result"
    },
    {
     "data": {
      "image/png": "[encoded data removed]",
      "text/plain": [
       "<Figure size 640x480 with 1 Axes>"
      ]
     },
     "metadata": {},
     "output_type": "display_data"
    }
   ],
   "source": [
    "heat_transformation_sum.plot()"
   ]
  },
  {
   "cell_type": "code",
   "execution_count": null,
   "metadata": {},
   "outputs": [],
   "source": []
  }
 ],
 "metadata": {
  "kernelspec": {
   "display_name": "Python [conda env:analysis3-21.04]",
   "language": "python",
   "name": "conda-env-analysis3-21.04-py"
  },
  "language_info": {
   "codemirror_mode": {
    "name": "ipython",
    "version": 3
   },
   "file_extension": ".py",
   "mimetype": "text/x-python",
   "name": "python",
   "nbconvert_exporter": "python",
   "pygments_lexer": "ipython3",
   "version": "3.8.10"
  }
 },
 "nbformat": 4,
 "nbformat_minor": 4
}
