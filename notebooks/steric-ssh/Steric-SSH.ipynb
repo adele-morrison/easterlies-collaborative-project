{
 "cells": [
  {
   "cell_type": "markdown",
   "id": "c05eb76a-7589-42b1-919f-654058280f9b",
   "metadata": {},
   "source": [
    "Calculate steric SSH changes in the region to plot maps as \n",
    "\n",
    "$$\n",
    "-\\int \\frac{\\rho - \\rho_{0}}{\\rho_{0}} dz\n",
    "$$\n",
    "\n",
    "with $\\rho_{0} = 1035$. Both density and cell height are taken from the same experiment. Subsequently, divide into thermosteric and halosteric contributions. Calculate the bottom pressure term as well, following Griffies et al. (2014). "
   ]
  },
  {
   "cell_type": "code",
   "execution_count": 1,
   "id": "e21bb97d-7802-4b44-ac2a-14e9a97b92d3",
   "metadata": {
    "tags": []
   },
   "outputs": [
    {
     "data": {
      "text/html": [
       "<div>\n",
       "    <div style=\"width: 24px; height: 24px; background-color: #e1e1e1; border: 3px solid #9D9D9D; border-radius: 5px; position: absolute;\"> </div>\n",
       "    <div style=\"margin-left: 48px;\">\n",
       "        <h3 style=\"margin-bottom: 0px;\">Client</h3>\n",
       "        <p style=\"color: #9D9D9D; margin-bottom: 0px;\">Client-1f97db86-1f4f-11ed-99ae-00000763fe80</p>\n",
       "        <table style=\"width: 100%; text-align: left;\">\n",
       "\n",
       "        <tr>\n",
       "        \n",
       "            <td style=\"text-align: left;\"><strong>Connection method:</strong> Cluster object</td>\n",
       "            <td style=\"text-align: left;\"><strong>Cluster type:</strong> distributed.LocalCluster</td>\n",
       "        \n",
       "        </tr>\n",
       "\n",
       "        \n",
       "            <tr>\n",
       "                <td style=\"text-align: left;\">\n",
       "                    <strong>Dashboard: </strong> <a href=\"/proxy/8787/status\" target=\"_blank\">/proxy/8787/status</a>\n",
       "                </td>\n",
       "                <td style=\"text-align: left;\"></td>\n",
       "            </tr>\n",
       "        \n",
       "\n",
       "        </table>\n",
       "\n",
       "        \n",
       "            <details>\n",
       "            <summary style=\"margin-bottom: 20px;\"><h3 style=\"display: inline;\">Cluster Info</h3></summary>\n",
       "            <div class=\"jp-RenderedHTMLCommon jp-RenderedHTML jp-mod-trusted jp-OutputArea-output\">\n",
       "    <div style=\"width: 24px; height: 24px; background-color: #e1e1e1; border: 3px solid #9D9D9D; border-radius: 5px; position: absolute;\">\n",
       "    </div>\n",
       "    <div style=\"margin-left: 48px;\">\n",
       "        <h3 style=\"margin-bottom: 0px; margin-top: 0px;\">LocalCluster</h3>\n",
       "        <p style=\"color: #9D9D9D; margin-bottom: 0px;\">d0831c13</p>\n",
       "        <table style=\"width: 100%; text-align: left;\">\n",
       "            <tr>\n",
       "                <td style=\"text-align: left;\">\n",
       "                    <strong>Dashboard:</strong> <a href=\"/proxy/8787/status\" target=\"_blank\">/proxy/8787/status</a>\n",
       "                </td>\n",
       "                <td style=\"text-align: left;\">\n",
       "                    <strong>Workers:</strong> 4\n",
       "                </td>\n",
       "            </tr>\n",
       "            <tr>\n",
       "                <td style=\"text-align: left;\">\n",
       "                    <strong>Total threads:</strong> 16\n",
       "                </td>\n",
       "                <td style=\"text-align: left;\">\n",
       "                    <strong>Total memory:</strong> 250.00 GiB\n",
       "                </td>\n",
       "            </tr>\n",
       "            \n",
       "            <tr>\n",
       "    <td style=\"text-align: left;\"><strong>Status:</strong> running</td>\n",
       "    <td style=\"text-align: left;\"><strong>Using processes:</strong> True</td>\n",
       "</tr>\n",
       "\n",
       "            \n",
       "        </table>\n",
       "\n",
       "        <details>\n",
       "            <summary style=\"margin-bottom: 20px;\">\n",
       "                <h3 style=\"display: inline;\">Scheduler Info</h3>\n",
       "            </summary>\n",
       "\n",
       "            <div style=\"\">\n",
       "    <div>\n",
       "        <div style=\"width: 24px; height: 24px; background-color: #FFF7E5; border: 3px solid #FF6132; border-radius: 5px; position: absolute;\"> </div>\n",
       "        <div style=\"margin-left: 48px;\">\n",
       "            <h3 style=\"margin-bottom: 0px;\">Scheduler</h3>\n",
       "            <p style=\"color: #9D9D9D; margin-bottom: 0px;\">Scheduler-cb43317b-8bbe-4974-ac64-e7a041f91c08</p>\n",
       "            <table style=\"width: 100%; text-align: left;\">\n",
       "                <tr>\n",
       "                    <td style=\"text-align: left;\">\n",
       "                        <strong>Comm:</strong> tcp://127.0.0.1:45201\n",
       "                    </td>\n",
       "                    <td style=\"text-align: left;\">\n",
       "                        <strong>Workers:</strong> 4\n",
       "                    </td>\n",
       "                </tr>\n",
       "                <tr>\n",
       "                    <td style=\"text-align: left;\">\n",
       "                        <strong>Dashboard:</strong> <a href=\"/proxy/8787/status\" target=\"_blank\">/proxy/8787/status</a>\n",
       "                    </td>\n",
       "                    <td style=\"text-align: left;\">\n",
       "                        <strong>Total threads:</strong> 16\n",
       "                    </td>\n",
       "                </tr>\n",
       "                <tr>\n",
       "                    <td style=\"text-align: left;\">\n",
       "                        <strong>Started:</strong> Just now\n",
       "                    </td>\n",
       "                    <td style=\"text-align: left;\">\n",
       "                        <strong>Total memory:</strong> 250.00 GiB\n",
       "                    </td>\n",
       "                </tr>\n",
       "            </table>\n",
       "        </div>\n",
       "    </div>\n",
       "\n",
       "    <details style=\"margin-left: 48px;\">\n",
       "        <summary style=\"margin-bottom: 20px;\">\n",
       "            <h3 style=\"display: inline;\">Workers</h3>\n",
       "        </summary>\n",
       "\n",
       "        \n",
       "        <div style=\"margin-bottom: 20px;\">\n",
       "            <div style=\"width: 24px; height: 24px; background-color: #DBF5FF; border: 3px solid #4CC9FF; border-radius: 5px; position: absolute;\"> </div>\n",
       "            <div style=\"margin-left: 48px;\">\n",
       "            <details>\n",
       "                <summary>\n",
       "                    <h4 style=\"margin-bottom: 0px; display: inline;\">Worker: 0</h4>\n",
       "                </summary>\n",
       "                <table style=\"width: 100%; text-align: left;\">\n",
       "                    <tr>\n",
       "                        <td style=\"text-align: left;\">\n",
       "                            <strong>Comm: </strong> tcp://127.0.0.1:35197\n",
       "                        </td>\n",
       "                        <td style=\"text-align: left;\">\n",
       "                            <strong>Total threads: </strong> 4\n",
       "                        </td>\n",
       "                    </tr>\n",
       "                    <tr>\n",
       "                        <td style=\"text-align: left;\">\n",
       "                            <strong>Dashboard: </strong> <a href=\"/proxy/33195/status\" target=\"_blank\">/proxy/33195/status</a>\n",
       "                        </td>\n",
       "                        <td style=\"text-align: left;\">\n",
       "                            <strong>Memory: </strong> 62.50 GiB\n",
       "                        </td>\n",
       "                    </tr>\n",
       "                    <tr>\n",
       "                        <td style=\"text-align: left;\">\n",
       "                            <strong>Nanny: </strong> tcp://127.0.0.1:43107\n",
       "                        </td>\n",
       "                        <td style=\"text-align: left;\"></td>\n",
       "                    </tr>\n",
       "                    <tr>\n",
       "                        <td colspan=\"2\" style=\"text-align: left;\">\n",
       "                            <strong>Local directory: </strong> /jobfs/55845370.gadi-pbs/dask-worker-space/worker-4e4kueac\n",
       "                        </td>\n",
       "                    </tr>\n",
       "\n",
       "                    \n",
       "\n",
       "                    \n",
       "\n",
       "                </table>\n",
       "            </details>\n",
       "            </div>\n",
       "        </div>\n",
       "        \n",
       "        <div style=\"margin-bottom: 20px;\">\n",
       "            <div style=\"width: 24px; height: 24px; background-color: #DBF5FF; border: 3px solid #4CC9FF; border-radius: 5px; position: absolute;\"> </div>\n",
       "            <div style=\"margin-left: 48px;\">\n",
       "            <details>\n",
       "                <summary>\n",
       "                    <h4 style=\"margin-bottom: 0px; display: inline;\">Worker: 1</h4>\n",
       "                </summary>\n",
       "                <table style=\"width: 100%; text-align: left;\">\n",
       "                    <tr>\n",
       "                        <td style=\"text-align: left;\">\n",
       "                            <strong>Comm: </strong> tcp://127.0.0.1:36647\n",
       "                        </td>\n",
       "                        <td style=\"text-align: left;\">\n",
       "                            <strong>Total threads: </strong> 4\n",
       "                        </td>\n",
       "                    </tr>\n",
       "                    <tr>\n",
       "                        <td style=\"text-align: left;\">\n",
       "                            <strong>Dashboard: </strong> <a href=\"/proxy/36503/status\" target=\"_blank\">/proxy/36503/status</a>\n",
       "                        </td>\n",
       "                        <td style=\"text-align: left;\">\n",
       "                            <strong>Memory: </strong> 62.50 GiB\n",
       "                        </td>\n",
       "                    </tr>\n",
       "                    <tr>\n",
       "                        <td style=\"text-align: left;\">\n",
       "                            <strong>Nanny: </strong> tcp://127.0.0.1:45625\n",
       "                        </td>\n",
       "                        <td style=\"text-align: left;\"></td>\n",
       "                    </tr>\n",
       "                    <tr>\n",
       "                        <td colspan=\"2\" style=\"text-align: left;\">\n",
       "                            <strong>Local directory: </strong> /jobfs/55845370.gadi-pbs/dask-worker-space/worker-8l1yanpi\n",
       "                        </td>\n",
       "                    </tr>\n",
       "\n",
       "                    \n",
       "\n",
       "                    \n",
       "\n",
       "                </table>\n",
       "            </details>\n",
       "            </div>\n",
       "        </div>\n",
       "        \n",
       "        <div style=\"margin-bottom: 20px;\">\n",
       "            <div style=\"width: 24px; height: 24px; background-color: #DBF5FF; border: 3px solid #4CC9FF; border-radius: 5px; position: absolute;\"> </div>\n",
       "            <div style=\"margin-left: 48px;\">\n",
       "            <details>\n",
       "                <summary>\n",
       "                    <h4 style=\"margin-bottom: 0px; display: inline;\">Worker: 2</h4>\n",
       "                </summary>\n",
       "                <table style=\"width: 100%; text-align: left;\">\n",
       "                    <tr>\n",
       "                        <td style=\"text-align: left;\">\n",
       "                            <strong>Comm: </strong> tcp://127.0.0.1:35437\n",
       "                        </td>\n",
       "                        <td style=\"text-align: left;\">\n",
       "                            <strong>Total threads: </strong> 4\n",
       "                        </td>\n",
       "                    </tr>\n",
       "                    <tr>\n",
       "                        <td style=\"text-align: left;\">\n",
       "                            <strong>Dashboard: </strong> <a href=\"/proxy/37215/status\" target=\"_blank\">/proxy/37215/status</a>\n",
       "                        </td>\n",
       "                        <td style=\"text-align: left;\">\n",
       "                            <strong>Memory: </strong> 62.50 GiB\n",
       "                        </td>\n",
       "                    </tr>\n",
       "                    <tr>\n",
       "                        <td style=\"text-align: left;\">\n",
       "                            <strong>Nanny: </strong> tcp://127.0.0.1:44013\n",
       "                        </td>\n",
       "                        <td style=\"text-align: left;\"></td>\n",
       "                    </tr>\n",
       "                    <tr>\n",
       "                        <td colspan=\"2\" style=\"text-align: left;\">\n",
       "                            <strong>Local directory: </strong> /jobfs/55845370.gadi-pbs/dask-worker-space/worker-fbhse8dt\n",
       "                        </td>\n",
       "                    </tr>\n",
       "\n",
       "                    \n",
       "\n",
       "                    \n",
       "\n",
       "                </table>\n",
       "            </details>\n",
       "            </div>\n",
       "        </div>\n",
       "        \n",
       "        <div style=\"margin-bottom: 20px;\">\n",
       "            <div style=\"width: 24px; height: 24px; background-color: #DBF5FF; border: 3px solid #4CC9FF; border-radius: 5px; position: absolute;\"> </div>\n",
       "            <div style=\"margin-left: 48px;\">\n",
       "            <details>\n",
       "                <summary>\n",
       "                    <h4 style=\"margin-bottom: 0px; display: inline;\">Worker: 3</h4>\n",
       "                </summary>\n",
       "                <table style=\"width: 100%; text-align: left;\">\n",
       "                    <tr>\n",
       "                        <td style=\"text-align: left;\">\n",
       "                            <strong>Comm: </strong> tcp://127.0.0.1:33253\n",
       "                        </td>\n",
       "                        <td style=\"text-align: left;\">\n",
       "                            <strong>Total threads: </strong> 4\n",
       "                        </td>\n",
       "                    </tr>\n",
       "                    <tr>\n",
       "                        <td style=\"text-align: left;\">\n",
       "                            <strong>Dashboard: </strong> <a href=\"/proxy/32825/status\" target=\"_blank\">/proxy/32825/status</a>\n",
       "                        </td>\n",
       "                        <td style=\"text-align: left;\">\n",
       "                            <strong>Memory: </strong> 62.50 GiB\n",
       "                        </td>\n",
       "                    </tr>\n",
       "                    <tr>\n",
       "                        <td style=\"text-align: left;\">\n",
       "                            <strong>Nanny: </strong> tcp://127.0.0.1:34871\n",
       "                        </td>\n",
       "                        <td style=\"text-align: left;\"></td>\n",
       "                    </tr>\n",
       "                    <tr>\n",
       "                        <td colspan=\"2\" style=\"text-align: left;\">\n",
       "                            <strong>Local directory: </strong> /jobfs/55845370.gadi-pbs/dask-worker-space/worker-y53qh_ff\n",
       "                        </td>\n",
       "                    </tr>\n",
       "\n",
       "                    \n",
       "\n",
       "                    \n",
       "\n",
       "                </table>\n",
       "            </details>\n",
       "            </div>\n",
       "        </div>\n",
       "        \n",
       "\n",
       "    </details>\n",
       "</div>\n",
       "\n",
       "        </details>\n",
       "    </div>\n",
       "</div>\n",
       "            </details>\n",
       "        \n",
       "\n",
       "    </div>\n",
       "</div>"
      ],
      "text/plain": [
       "<Client: 'tcp://127.0.0.1:45201' processes=4 threads=16, memory=250.00 GiB>"
      ]
     },
     "execution_count": 1,
     "metadata": {},
     "output_type": "execute_result"
    }
   ],
   "source": [
    "import cmocean \n",
    "import cosima_cookbook as cc\n",
    "import cosima_cookbook.distributed as ccd\n",
    "import dask.distributed as dsk\n",
    "import gsw\n",
    "import numpy as np\n",
    "import xarray as xr\n",
    "\n",
    "import warnings # ignore these warnings\n",
    "warnings.filterwarnings(\"ignore\", category = FutureWarning)\n",
    "warnings.filterwarnings(\"ignore\", category = UserWarning)\n",
    "warnings.filterwarnings(\"ignore\", category = RuntimeWarning)\n",
    "\n",
    "figdir = '/home/561/jn8053/g_e14/figures-tmp/easterlies-collaborative/'\n",
    "\n",
    "clnt = dsk.Client()\n",
    "clnt"
   ]
  },
  {
   "cell_type": "code",
   "execution_count": 2,
   "id": "0ce93104-61b3-424c-8e04-2a9ca8b3d352",
   "metadata": {},
   "outputs": [],
   "source": [
    "session = cc.database.create_session()\n",
    "experiment_ryf = '01deg_jra55v13_ryf9091'\n",
    "experiment_eup = '01deg_jra55v13_ryf9091_easterlies_up10'\n",
    "experiment_edo = '01deg_jra55v13_ryf9091_easterlies_down10'\n",
    "\n",
    "ti = '2150-01-01'\n",
    "tf = '2160-12-31'"
   ]
  },
  {
   "cell_type": "code",
   "execution_count": 3,
   "id": "15958d55-9258-44ec-a787-92ede9a989d0",
   "metadata": {},
   "outputs": [],
   "source": [
    "ht = cc.querying.getvar(experiment_ryf, 'ht', session, n = 1).sel(yt_ocean = slice(None, -58))"
   ]
  },
  {
   "cell_type": "code",
   "execution_count": 4,
   "id": "2e81ae26-88ec-44b0-847a-96d5fba4dfa0",
   "metadata": {
    "tags": []
   },
   "outputs": [],
   "source": [
    "# Height of t-cells\n",
    "dzt = {}\n",
    "dzt['ctrl'] = cc.querying.getvar(experiment_ryf, 'dzt', session, frequency = '1 monthly', start_time = ti, end_time = tf).sel(time = slice(ti, tf), yt_ocean = slice(None, -50))\n",
    "dzt['up'] = cc.querying.getvar(experiment_eup, 'dzt', session, frequency = '1 monthly', start_time = ti, end_time = tf).sel(time = slice(ti, tf), yt_ocean = slice(None, -50))\n",
    "dzt['down'] = cc.querying.getvar(experiment_edo, 'dzt', session, frequency = '1 monthly', start_time = ti, end_time = tf).sel(time = slice(ti, tf), yt_ocean = slice(None, -50))"
   ]
  },
  {
   "cell_type": "code",
   "execution_count": 5,
   "id": "762363c4-ceb5-4328-8714-4e4592c83652",
   "metadata": {},
   "outputs": [
    {
     "name": "stderr",
     "output_type": "stream",
     "text": [
      "2022-08-19 09:41:21,737 - distributed.utils_perf - WARNING - full garbage collections took 25% CPU time recently (threshold: 10%)\n",
      "2022-08-19 09:41:22,034 - distributed.utils_perf - WARNING - full garbage collections took 28% CPU time recently (threshold: 10%)\n",
      "2022-08-19 09:41:22,099 - distributed.utils_perf - WARNING - full garbage collections took 27% CPU time recently (threshold: 10%)\n"
     ]
    }
   ],
   "source": [
    "# Temperature and salinity\n",
    "temp = {}\n",
    "salt = {}\n",
    "temp['ctrl'] = cc.querying.getvar(experiment_ryf, 'temp', session, frequency = '1 monthly', start_time = ti, end_time = tf).sel(time = slice(ti, tf), yt_ocean = slice(None, -58))-273.15\n",
    "temp['up'] = cc.querying.getvar(experiment_eup, 'temp', session, frequency = '1 monthly', start_time = ti, end_time = tf).sel(time = slice(ti, tf), yt_ocean = slice(None, -58))-273.15\n",
    "temp['down'] = cc.querying.getvar(experiment_edo, 'temp', session, frequency = '1 monthly', start_time = ti, end_time = tf).sel(time = slice(ti, tf), yt_ocean = slice(None, -58))-273.15\n",
    "salt['ctrl'] = cc.querying.getvar(experiment_ryf, 'salt', session, frequency = '1 monthly', start_time = ti, end_time = tf).sel(time = slice(ti, tf), yt_ocean = slice(None, -58))\n",
    "salt['up'] = cc.querying.getvar(experiment_eup, 'salt', session, frequency = '1 monthly', start_time = ti, end_time = tf).sel(time = slice(ti, tf), yt_ocean = slice(None, -58))\n",
    "salt['down'] = cc.querying.getvar(experiment_edo, 'salt', session, frequency = '1 monthly', start_time = ti, end_time = tf).sel(time = slice(ti, tf), yt_ocean = slice(None, -58))"
   ]
  },
  {
   "cell_type": "code",
   "execution_count": 6,
   "id": "7445aa70-e109-43f7-8933-d66c6c513449",
   "metadata": {},
   "outputs": [],
   "source": [
    "rho_0 = 1035"
   ]
  },
  {
   "cell_type": "markdown",
   "id": "831259dc-ebcb-4a4b-b2a4-ee6efd7d0df1",
   "metadata": {},
   "source": [
    "# Total steric ssh"
   ]
  },
  {
   "cell_type": "code",
   "execution_count": 13,
   "id": "c2db3848-d563-43ac-90c6-ffd77aae426d",
   "metadata": {},
   "outputs": [
    {
     "data": {
      "application/vnd.jupyter.widget-view+json": {
       "model_id": "",
       "version_major": 2,
       "version_minor": 0
      },
      "text/plain": [
       "  0%|          | 0/132 [00:00<?, ?it/s]"
      ]
     },
     "metadata": {},
     "output_type": "display_data"
    },
    {
     "data": {
      "application/vnd.jupyter.widget-view+json": {
       "model_id": "",
       "version_major": 2,
       "version_minor": 0
      },
      "text/plain": [
       "  0%|          | 0/132 [00:00<?, ?it/s]"
      ]
     },
     "metadata": {},
     "output_type": "display_data"
    }
   ],
   "source": [
    "for k in ['ctrl', 'up', 'down']:\n",
    "    temp_bott = temp[k]\n",
    "    salt_bott = salt[k]\n",
    "\n",
    "    p = gsw.p_from_z(-temp_bott['st_ocean'], temp_bott['yt_ocean'])\n",
    "    salt_abs = gsw.SA_from_SP(salt_bott, \n",
    "                              p, \n",
    "                              salt_bott['xt_ocean'], \n",
    "                              salt_bott['yt_ocean'])\n",
    "\n",
    "    # Density changes due to temp/salt changes\n",
    "    rho_anom = (gsw.rho(salt_bott, temp_bott, p) - rho_0) / rho_0\n",
    "\n",
    "    # Integrating surface layer\n",
    "    steric_ssh = (rho_anom * dzt[k]).sum('st_ocean')\n",
    "    steric_ssh = steric_ssh.chunk({'time':'500MB'})\n",
    "    steric_ssh = ccd.compute_by_block(steric_ssh)\n",
    "    steric_ssh.rename('steric_ssh').to_netcdf('steric_ssh_'+k+'.nc')"
   ]
  },
  {
   "cell_type": "markdown",
   "id": "1105ccea-5425-4ecf-9c38-a773882476e5",
   "metadata": {},
   "source": [
    "## Thermosteric contribution"
   ]
  },
  {
   "cell_type": "code",
   "execution_count": 8,
   "id": "e67478b4-27c4-4faa-b4ac-d71fa42a4e09",
   "metadata": {
    "tags": []
   },
   "outputs": [
    {
     "data": {
      "application/vnd.jupyter.widget-view+json": {
       "model_id": "",
       "version_major": 2,
       "version_minor": 0
      },
      "text/plain": [
       "  0%|          | 0/18 [00:00<?, ?it/s]"
      ]
     },
     "metadata": {},
     "output_type": "display_data"
    },
    {
     "data": {
      "application/vnd.jupyter.widget-view+json": {
       "model_id": "",
       "version_major": 2,
       "version_minor": 0
      },
      "text/plain": [
       "  0%|          | 0/80 [00:00<?, ?it/s]"
      ]
     },
     "metadata": {},
     "output_type": "display_data"
    },
    {
     "data": {
      "application/vnd.jupyter.widget-view+json": {
       "model_id": "",
       "version_major": 2,
       "version_minor": 0
      },
      "text/plain": [
       "  0%|          | 0/80 [00:00<?, ?it/s]"
      ]
     },
     "metadata": {},
     "output_type": "display_data"
    }
   ],
   "source": [
    "for k in ['ctrl', 'up', 'down']:\n",
    "    temp_bott = temp[k]\n",
    "    salt_bott = salt[k].isel(time = slice(None, 12)).mean('time')\n",
    "\n",
    "    p = gsw.p_from_z(-temp_bott['st_ocean'], temp_bott['yt_ocean'])\n",
    "    salt_abs = gsw.SA_from_SP(salt_bott, p, \n",
    "                              salt_bott['xt_ocean'], \n",
    "                              salt_bott['yt_ocean'])\n",
    "\n",
    "    # Density changes due to temp/salt changes\n",
    "    rho_anom = (gsw.rho(salt_bott, temp_bott, p) - rho_0) / rho_0\n",
    "\n",
    "    # Integrating surface layer\n",
    "    steric_ssh = (rho_anom * dzt[k]).sum('st_ocean')\n",
    "    steric_ssh = steric_ssh.chunk({'time':'500MB'})\n",
    "    steric_ssh = ccd.compute_by_block(steric_ssh)\n",
    "    steric_ssh.rename('thermosteric_ssh').to_netcdf('thermosteric_ssh_'+k+'.nc')"
   ]
  },
  {
   "cell_type": "markdown",
   "id": "f2225de1-cd9a-4618-922f-96331cdd5607",
   "metadata": {},
   "source": [
    "## Halosteric contribution"
   ]
  },
  {
   "cell_type": "code",
   "execution_count": 7,
   "id": "04ee1eca-6674-460e-9aa3-56a48fef40af",
   "metadata": {},
   "outputs": [
    {
     "data": {
      "application/vnd.jupyter.widget-view+json": {
       "model_id": "",
       "version_major": 2,
       "version_minor": 0
      },
      "text/plain": [
       "  0%|          | 0/18 [00:00<?, ?it/s]"
      ]
     },
     "metadata": {},
     "output_type": "display_data"
    },
    {
     "name": "stderr",
     "output_type": "stream",
     "text": [
      "2022-08-19 09:41:53,549 - distributed.utils_perf - WARNING - full garbage collections took 22% CPU time recently (threshold: 10%)\n",
      "2022-08-19 09:42:09,100 - distributed.utils_perf - WARNING - full garbage collections took 27% CPU time recently (threshold: 10%)\n",
      "2022-08-19 09:42:19,051 - distributed.utils_perf - WARNING - full garbage collections took 16% CPU time recently (threshold: 10%)\n",
      "2022-08-19 09:42:31,147 - distributed.utils_perf - WARNING - full garbage collections took 13% CPU time recently (threshold: 10%)\n",
      "2022-08-19 09:42:31,811 - distributed.utils_perf - WARNING - full garbage collections took 13% CPU time recently (threshold: 10%)\n",
      "2022-08-19 09:42:39,404 - distributed.utils_perf - WARNING - full garbage collections took 12% CPU time recently (threshold: 10%)\n",
      "2022-08-19 09:43:01,910 - distributed.utils_perf - WARNING - full garbage collections took 10% CPU time recently (threshold: 10%)\n",
      "2022-08-19 09:43:02,140 - distributed.utils_perf - WARNING - full garbage collections took 10% CPU time recently (threshold: 10%)\n"
     ]
    },
    {
     "data": {
      "application/vnd.jupyter.widget-view+json": {
       "model_id": "",
       "version_major": 2,
       "version_minor": 0
      },
      "text/plain": [
       "  0%|          | 0/80 [00:00<?, ?it/s]"
      ]
     },
     "metadata": {},
     "output_type": "display_data"
    },
    {
     "data": {
      "application/vnd.jupyter.widget-view+json": {
       "model_id": "",
       "version_major": 2,
       "version_minor": 0
      },
      "text/plain": [
       "  0%|          | 0/80 [00:00<?, ?it/s]"
      ]
     },
     "metadata": {},
     "output_type": "display_data"
    }
   ],
   "source": [
    "for k in ['ctrl', 'up', 'down']:\n",
    "    temp_bott = temp[k].isel(time = slice(None, 12)).mean('time')\n",
    "    salt_bott = salt[k]\n",
    "\n",
    "    p = gsw.p_from_z(-temp_bott['st_ocean'], temp_bott['yt_ocean'])\n",
    "    salt_abs = gsw.SA_from_SP(salt_bott, p, \n",
    "                              salt_bott['xt_ocean'], \n",
    "                              salt_bott['yt_ocean'])\n",
    "\n",
    "    # Density changes due to temp/salt changes\n",
    "    rho_anom = (gsw.rho(salt_bott, temp_bott, p) - rho_0) / rho_0\n",
    "\n",
    "    # Integrating surface layer\n",
    "    steric_ssh = (rho_anom * dzt[k]).sum('st_ocean')\n",
    "    steric_ssh = steric_ssh.chunk({'time':'500MB'})\n",
    "    steric_ssh = ccd.compute_by_block(steric_ssh)\n",
    "    steric_ssh.rename('halosteric_ssh').to_netcdf('halosteric_ssh_'+k+'.nc')"
   ]
  },
  {
   "cell_type": "markdown",
   "id": "f11c2be4-2112-42e4-989f-4b8ccf72d573",
   "metadata": {},
   "source": [
    "# Mass term"
   ]
  },
  {
   "cell_type": "code",
   "execution_count": 10,
   "id": "d83cd85a-8c22-4b2e-9682-3c02c51ebd66",
   "metadata": {},
   "outputs": [],
   "source": [
    "pbot = {}\n",
    "pbot['ctrl'] = cc.querying.getvar(experiment_ryf, 'pbot_t', session, \n",
    "                                  frequency = '1 monthly', start_time = ti, \n",
    "                                  end_time = tf).sel(time = slice(ti, tf), \n",
    "                                                     yt_ocean = slice(None, -58))\n",
    "pbot['up'] = cc.querying.getvar(experiment_eup, 'pbot_t', session, \n",
    "                                frequency = '1 monthly', start_time = ti, \n",
    "                                end_time = tf).sel(time = slice(ti, tf), \n",
    "                                                   yt_ocean = slice(None, -58))\n",
    "pbot['down'] = cc.querying.getvar(experiment_edo, 'pbot_t', session, \n",
    "                                  frequency = '1 monthly', start_time = ti, \n",
    "                                  end_time = tf).sel(time = slice(ti, tf), \n",
    "                                                     yt_ocean = slice(None, -58))"
   ]
  },
  {
   "cell_type": "code",
   "execution_count": 14,
   "id": "9b5bae2d-f782-4273-b404-50cfd38fa3d5",
   "metadata": {},
   "outputs": [],
   "source": [
    "# Create a shelf mask\n",
    "ht = cc.querying.getvar(experiment_ryf, 'ht', session, n = 1).sel(yt_ocean = slice(None, -58))\n",
    "\n",
    "iso = xr.open_dataset('~/g_e14/misc/Antarctic_isobath_1000m.nc')\n",
    "lat_slice = slice(-80,-58)\n",
    "lon_slice = slice(-280, 80)\n",
    "\n",
    "def shelf_mask_isobath(var):\n",
    "    '''\n",
    "    Masks ACCESS-OM2-01 variables by the region polewards of the 1000m isobath as computed using \n",
    "    a script contributed by Adele Morrison.\n",
    "    Only to be used with ACCESS-OM2-0.1 output!\n",
    "    '''\n",
    "    contour_file = np.load('/g/data/ik11/grids/Antarctic_slope_contour_1000m.npz')\n",
    "    shelf_mask = contour_file['contour_masked_above']\n",
    "    yt_ocean = contour_file['yt_ocean']\n",
    "    xt_ocean = contour_file['xt_ocean']\n",
    "    # Mask values that are non-zero\n",
    "    shelf_mask[np.where(shelf_mask!=0)] = np.nan\n",
    "    shelf_mask = shelf_mask+1\n",
    "    shelf_map = np.nan_to_num(shelf_mask)\n",
    "    shelf_mask = xr.DataArray(shelf_mask, coords = [('yt_ocean', yt_ocean), ('xt_ocean', xt_ocean)])\n",
    "    shelf_map = xr.DataArray(shelf_map, coords = [('yt_ocean', yt_ocean), ('xt_ocean', xt_ocean)])\n",
    "    # Multiply the variable with the mask, we need to account for the shape of the mask. \n",
    "    # The mask uses a northern cutoff of 59S.\n",
    "    masked_var = var.sel(yt_ocean = lat_slice) * shelf_mask\n",
    "    return masked_var, shelf_map\n",
    "\n",
    "ht_masked, shelf_mask = shelf_mask_isobath(ht)"
   ]
  },
  {
   "cell_type": "code",
   "execution_count": 15,
   "id": "7a349d75-f57c-49da-9199-c9fbe16d2484",
   "metadata": {},
   "outputs": [],
   "source": [
    "for k in ['ctrl', 'up', 'down']:\n",
    "    pbot_shelf, shelf_mask = shelf_mask_isobath(pbot[k])\n",
    "    pbot_shelf = (1/(9.8*1035))*(pbot_shelf*1e4).mean(['xt_ocean', 'yt_ocean'])\n",
    "    pbot_shelf = pbot_shelf.load()\n",
    "\n",
    "    pbot_shelf.rename('mass_term').to_netcdf('mass_term_shelf_ave_'+k+'.nc')"
   ]
  },
  {
   "cell_type": "code",
   "execution_count": null,
   "id": "df25041c-db7b-4b7e-ad48-065751661c4c",
   "metadata": {},
   "outputs": [],
   "source": []
  }
 ],
 "metadata": {
  "kernelspec": {
   "display_name": "Python [conda env:analysis3-22.07]",
   "language": "python",
   "name": "conda-env-analysis3-22.07-py"
  },
  "language_info": {
   "codemirror_mode": {
    "name": "ipython",
    "version": 3
   },
   "file_extension": ".py",
   "mimetype": "text/x-python",
   "name": "python",
   "nbconvert_exporter": "python",
   "pygments_lexer": "ipython3",
   "version": "3.9.13"
  }
 },
 "nbformat": 4,
 "nbformat_minor": 5
}
