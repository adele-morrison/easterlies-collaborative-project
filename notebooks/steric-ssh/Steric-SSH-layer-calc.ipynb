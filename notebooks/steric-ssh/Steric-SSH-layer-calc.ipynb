{
 "cells": [
  {
   "cell_type": "code",
   "execution_count": null,
   "id": "a9b1a7b0-de6e-4967-95c4-2a9ffd1b584a",
   "metadata": {
    "tags": []
   },
   "outputs": [],
   "source": [
    "import cmocean \n",
    "import cosima_cookbook as cc\n",
    "import dask.distributed as dsk\n",
    "import gsw\n",
    "import numpy as np\n",
    "import xarray as xr\n",
    "\n",
    "import warnings # ignore these warnings\n",
    "warnings.filterwarnings(\"ignore\", category = FutureWarning)\n",
    "warnings.filterwarnings(\"ignore\", category = UserWarning)\n",
    "warnings.filterwarnings(\"ignore\", category = RuntimeWarning)\n",
    "\n",
    "figdir = '/home/561/jn8053/g_e14/figures-tmp/easterlies-collaborative/'\n",
    "\n",
    "clnt = dsk.Client()\n",
    "clnt"
   ]
  },
  {
   "cell_type": "code",
   "execution_count": null,
   "id": "cc5e41c7-1ac2-4d43-a103-30c97929902b",
   "metadata": {},
   "outputs": [],
   "source": [
    "session_ryf = cc.database.create_session()\n",
    "experiment_ryf = '01deg_jra55v13_ryf9091'\n",
    "session_eas = cc.database.create_session('/g/data/v45/akm157/model_data/access-om2/01deg_jra55v13_ryf9091_easterlies_up10/easterlies.db')\n",
    "experiment_eup = '01deg_jra55v13_ryf9091_easterlies_up10'\n",
    "experiment_edo = '01deg_jra55v13_ryf9091_easterlies_down10'\n",
    "\n",
    "ti = '2150-01-01'\n",
    "tf = '2164-12-31'"
   ]
  },
  {
   "cell_type": "code",
   "execution_count": null,
   "id": "b0a1b874-1ca8-4676-8889-0c3850cb953c",
   "metadata": {},
   "outputs": [],
   "source": [
    "ht = cc.querying.getvar(experiment_ryf, 'ht', session_ryf, n = 1).sel(yt_ocean = slice(None, -58))\n",
    "iso = xr.open_dataset('~/g_e14/misc/Antarctic_isobath_1000m.nc')"
   ]
  },
  {
   "cell_type": "code",
   "execution_count": null,
   "id": "b0727988-5bc0-4bb8-93e4-88c7b19a55d9",
   "metadata": {},
   "outputs": [],
   "source": [
    "temp = {}\n",
    "salt = {}\n",
    "temp['ctrl'] = cc.querying.getvar(experiment_ryf, 'temp', session_ryf, frequency = '1 monthly', start_time = ti, end_time = tf).sel(time = slice(ti, tf), yt_ocean = slice(None, -58))-273.15\n",
    "temp['up'] = cc.querying.getvar(experiment_eup, 'temp', session_eas, frequency = '1 monthly', start_time = ti, end_time = tf).sel(time = slice(ti, tf), yt_ocean = slice(None, -58))-273.15\n",
    "temp['down'] = cc.querying.getvar(experiment_edo, 'temp', session_eas, frequency = '1 monthly', start_time = ti, end_time = tf).sel(time = slice(ti, tf), yt_ocean = slice(None, -58))-273.15\n",
    "salt['ctrl'] = cc.querying.getvar(experiment_ryf, 'salt', session_ryf, frequency = '1 monthly', start_time = ti, end_time = tf).sel(time = slice(ti, tf), yt_ocean = slice(None, -58))\n",
    "salt['up'] = cc.querying.getvar(experiment_eup, 'salt', session_eas, frequency = '1 monthly', start_time = ti, end_time = tf).sel(time = slice(ti, tf), yt_ocean = slice(None, -58))\n",
    "salt['down'] = cc.querying.getvar(experiment_edo, 'salt', session_eas, frequency = '1 monthly', start_time = ti, end_time = tf).sel(time = slice(ti, tf), yt_ocean = slice(None, -58))"
   ]
  },
  {
   "cell_type": "code",
   "execution_count": null,
   "id": "2b61003f-4c3e-4cc0-901e-6509bf929395",
   "metadata": {},
   "outputs": [],
   "source": [
    "# Area for weighting\n",
    "area_t = cc.querying.getvar(experiment_ryf, 'area_t', session_ryf, ncfile = 'ocean_grid.nc', n = -1)\n",
    "area_t = area_t.sel(yt_ocean = lat_slice).sel(xt_ocean = lon_slice)\n",
    "area_t = area_t * shelf_mask.sel(yt_ocean = lat_slice).sel(xt_ocean = lon_slice)\n",
    "area_sum = area_t.sum('xt_ocean').sum('yt_ocean')"
   ]
  },
  {
   "cell_type": "code",
   "execution_count": null,
   "id": "740d66c4-3435-4a7b-a7b6-ca4fca566bd7",
   "metadata": {},
   "outputs": [],
   "source": [
    "lat_slice = slice(-80,-58)\n",
    "lon_slice = slice(-280, 80)\n",
    "\n",
    "def shelf_mask_isobath(var):\n",
    "    '''\n",
    "    Masks ACCESS-OM2-01 variables by the region polewards of the 1000m isobath as computed using \n",
    "    a script contributed by Adele Morrison.\n",
    "    Only to be used with ACCESS-OM2-0.1 output!\n",
    "    '''\n",
    "    contour_file = np.load('/g/data/ik11/grids/Antarctic_slope_contour_1000m.npz')\n",
    "    shelf_mask = contour_file['contour_masked_above']\n",
    "    yt_ocean = contour_file['yt_ocean']\n",
    "    xt_ocean = contour_file['xt_ocean']\n",
    "    # Mask values that are non-zero\n",
    "    shelf_mask[np.where(shelf_mask!=0)] = np.nan\n",
    "    shelf_mask = shelf_mask+1\n",
    "    shelf_map = np.nan_to_num(shelf_mask)\n",
    "    shelf_mask = xr.DataArray(shelf_mask, coords = [('yt_ocean', yt_ocean), ('xt_ocean', xt_ocean)])\n",
    "    shelf_map = xr.DataArray(shelf_map, coords = [('yt_ocean', yt_ocean), ('xt_ocean', xt_ocean)])\n",
    "    # Multiply the variable with the mask, we need to account for the shape of the mask. \n",
    "    # The mask uses a northern cutoff of 59S.\n",
    "    masked_var = var.sel(yt_ocean = lat_slice) * shelf_mask\n",
    "    return masked_var, shelf_map"
   ]
  },
  {
   "cell_type": "markdown",
   "id": "9f2010bd-fcbd-4eb7-bf54-2a5f82d81387",
   "metadata": {},
   "source": [
    "# Steric contributions from different layers\n",
    "\n",
    "$$\n",
    "-\\int_{H2}^{H1} \\frac{\\rho ' - \\overline{\\rho}}{\\overline{\\rho}} dz\n",
    "$$"
   ]
  },
  {
   "cell_type": "markdown",
   "id": "de167016-32da-406c-9f8e-c9a778590a89",
   "metadata": {
    "tags": []
   },
   "source": [
    "## Upper 100m contribution"
   ]
  },
  {
   "cell_type": "code",
   "execution_count": null,
   "id": "3254617d-001d-4b40-9281-eb883ab542a7",
   "metadata": {},
   "outputs": [],
   "source": [
    "temp_surf_ctrl = temp['ctrl'].sel(st_ocean = slice(0, 100))\n",
    "salt_surf_ctrl = salt['ctrl'].sel(st_ocean = slice(0, 100))\n",
    "\n",
    "p_ctrl = gsw.p_from_z(-temp_surf_ctrl['st_ocean'], temp_surf_ctrl['yt_ocean'])\n",
    "salt_abs = gsw.SA_from_SP(salt_surf_ctrl, p_ctrl, salt_surf_ctrl['xt_ocean'], salt_surf_ctrl['yt_ocean'])\n",
    "\n",
    "ρ_mean_ctrl = gsw.rho(salt_surf_ctrl.mean('time'), temp_surf_ctrl.mean('time'), p_ctrl)\n",
    "ρ_anom_ctrl = (gsw.rho(salt_surf_ctrl, temp_surf_ctrl, p_ctrl) - ρ_mean_ctrl) / ρ_mean_ctrl\n",
    "\n",
    "# Height of t-cells\n",
    "dzt = cc.querying.getvar(experiment_ryf, 'dzt', session_ryf, frequency = '1 monthly', start_time = ti, end_time = tf).sel(time = slice(ti, tf), yt_ocean = slice(None, -50))\n",
    "\n",
    "# Integrating surface layer\n",
    "slev_surf_ctrl = (ρ_anom_ctrl * dzt.sel(st_ocean = slice(0, 100))).sum('st_ocean')\n",
    "slev_surf_ctrl = slev_surf_ctrl.chunk({'xt_ocean':'500MB', 'yt_ocean':'500MB'})\n",
    "slev_surf_ctrl = slev_surf_ctrl.load()\n",
    "\n",
    "# Averaging on shelf\n",
    "slev_surf_ctrl_shelf, shelf_mask = shelf_mask_isobath(slev_surf_ctrl)\n",
    "slev_surf_ctrl_shelf = (slev_surf_ctrl_shelf*area_t).sum('xt_ocean').sum('yt_ocean') / area_sum\n",
    "\n",
    "slev_surf_ctrl_shelf.to_netcdf('slev_surf_ctrl_shelf.nc')"
   ]
  },
  {
   "cell_type": "code",
   "execution_count": null,
   "id": "98ea1651-3a98-46a9-affe-6217424b56b1",
   "metadata": {},
   "outputs": [],
   "source": [
    "clnt.restart()"
   ]
  },
  {
   "cell_type": "code",
   "execution_count": null,
   "id": "aef061a6-1fdd-4e53-b9e9-15303e376b96",
   "metadata": {},
   "outputs": [],
   "source": [
    "temp_surf_up = temp['up'].sel(st_ocean = slice(0, 100))\n",
    "salt_surf_up = salt['up'].sel(st_ocean = slice(0, 100))\n",
    "\n",
    "p_up = gsw.p_from_z(-temp_surf_up['st_ocean'], temp_surf_up['yt_ocean'])\n",
    "salt_abs = gsw.SA_from_SP(salt_surf_up, p_up, salt_surf_up['xt_ocean'], salt_surf_up['yt_ocean'])\n",
    "\n",
    "ρ_mean_up = gsw.rho(salt_surf_up.mean('time'), temp_surf_up.mean('time'), p_up)\n",
    "ρ_anom_up = (gsw.rho(salt_surf_up, temp_surf_up, p_up) - ρ_mean_up) / ρ_mean_up\n",
    "\n",
    "# Height of t-cells\n",
    "dzt = cc.querying.getvar(experiment_eup, 'dzt', session_eas, frequency = '1 monthly', start_time = ti, end_time = tf).sel(time = slice(ti, tf), yt_ocean = slice(None, -50))\n",
    "\n",
    "# Integrating surface layer\n",
    "slev_surf_up = (ρ_anom_up * dzt.sel(st_ocean = slice(0, 100))).sum('st_ocean')\n",
    "slev_surf_up = slev_surf_up.chunk({'xt_ocean':'500MB', 'yt_ocean':'500MB'})\n",
    "slev_surf_up = slev_surf_up.load()\n",
    "\n",
    "# Averaging on shelf\n",
    "slev_surf_up_shelf, shelf_mask = shelf_mask_isobath(slev_surf_up)\n",
    "slev_surf_up_shelf = (slev_surf_up_shelf*area_t).sum('xt_ocean').sum('yt_ocean') / area_sum\n",
    "\n",
    "slev_surf_up_shelf.to_netcdf('slev_surf_up_shelf.nc')"
   ]
  },
  {
   "cell_type": "code",
   "execution_count": null,
   "id": "32d80d6a-b25d-42a8-a8be-d3dfb5d54396",
   "metadata": {},
   "outputs": [],
   "source": [
    "clnt.restart()"
   ]
  },
  {
   "cell_type": "code",
   "execution_count": null,
   "id": "4f1cf275-6954-44a3-9fdb-f326af80e3d7",
   "metadata": {},
   "outputs": [],
   "source": [
    "temp_surf_down = temp['down'].sel(st_ocean = slice(0, 100))\n",
    "salt_surf_down = salt['down'].sel(st_ocean = slice(0, 100))\n",
    "\n",
    "p_down = gsw.p_from_z(-temp_surf_down['st_ocean'], temp_surf_down['yt_ocean'])\n",
    "salt_abs = gsw.SA_from_SP(salt_surf_down, p_down, salt_surf_down['xt_ocean'], salt_surf_down['yt_ocean'])\n",
    "\n",
    "ρ_mean_down = gsw.rho(salt_surf_down.mean('time'), temp_surf_down.mean('time'), p_down)\n",
    "ρ_anom_down = (gsw.rho(salt_surf_down, temp_surf_down, p_down) - ρ_mean_down) / ρ_mean_down\n",
    "\n",
    "# Height of t-cells\n",
    "dzt = cc.querying.getvar(experiment_edo, 'dzt', session_eas, frequency = '1 monthly', start_time = ti, end_time = tf).sel(time = slice(ti, tf), yt_ocean = slice(None, -50))\n",
    "\n",
    "# Integrating surface layer\n",
    "slev_surf_down = (ρ_anom_down * dzt.sel(st_ocean = slice(0, 100))).sum('st_ocean')\n",
    "slev_surf_down = slev_surf_down.chunk({'xt_ocean':'500MB', 'yt_ocean':'500MB'})\n",
    "slev_surf_down = slev_surf_down.load()\n",
    "\n",
    "# Averaging on shelf\n",
    "slev_surf_down_shelf, shelf_mask = shelf_mask_isobath(slev_surf_down)\n",
    "slev_surf_down_shelf = (slev_surf_down_shelf*area_t).sum('xt_ocean').sum('yt_ocean') / area_sum\n",
    "\n",
    "slev_surf_down_shelf.to_netcdf('slev_surf_down_shelf.nc')"
   ]
  },
  {
   "cell_type": "code",
   "execution_count": null,
   "id": "e7a5c34e-f583-4a16-a6e6-c99dfd9b3dd2",
   "metadata": {},
   "outputs": [],
   "source": [
    "clnt.restart()"
   ]
  },
  {
   "cell_type": "markdown",
   "id": "6bad1bfe-f791-4741-afbd-7ff32f23ea2a",
   "metadata": {},
   "source": [
    "## Bottom 100m"
   ]
  },
  {
   "cell_type": "code",
   "execution_count": null,
   "id": "760dc638-e974-4e96-bee4-0bf0855eefe9",
   "metadata": {},
   "outputs": [],
   "source": [
    "depth_array = temp['ctrl'] * 0 + temp['ctrl'].st_ocean\n",
    "max_depth = depth_array.max(dim = 'st_ocean', skipna= True)\n",
    "\n",
    "temp_bott_ctrl = temp['ctrl'].where(depth_array['st_ocean'] >= max_depth-100)\n",
    "salt_bott_ctrl = salt['ctrl'].where(depth_array['st_ocean'] >= max_depth-100)\n",
    "\n",
    "p_ctrl = gsw.p_from_z(-temp_bott_ctrl['st_ocean'], temp_bott_ctrl['yt_ocean'])\n",
    "salt_abs = gsw.SA_from_SP(salt_bott_ctrl, p_ctrl, salt_bott_ctrl['xt_ocean'], salt_bott_ctrl['yt_ocean'])\n",
    "\n",
    "# Density changes due to temp/salt changes\n",
    "ρ_mean_ctrl = gsw.rho(salt_bott_ctrl.mean('time'), temp_bott_ctrl.mean('time'), p_ctrl)\n",
    "ρ_anom_ctrl = (gsw.rho(salt_bott_ctrl, temp_bott_ctrl, p_ctrl) - ρ_mean_ctrl) / ρ_mean_ctrl\n",
    "\n",
    "# Height of t-cells\n",
    "dzt = cc.querying.getvar(experiment_ryf, 'dzt', session_ryf, frequency = '1 monthly', start_time = ti, end_time = tf).sel(time = slice(ti, tf), yt_ocean = slice(None, -50))\n",
    "\n",
    "# Integrating surface layer\n",
    "slev_bott_ctrl = (ρ_anom_ctrl * dzt.where(depth_array['st_ocean'] >= max_depth-100)).sum('st_ocean')\n",
    "slev_bott_ctrl = slev_bott_ctrl.chunk({'xt_ocean':'500MB', 'yt_ocean':'500MB'})\n",
    "\n",
    "# Averaging on shelf\n",
    "slev_bott_ctrl_shelf, shelf_mask = shelf_mask_isobath(slev_bott_ctrl)\n",
    "slev_bott_ctrl_shelf = (slev_bott_ctrl_shelf*area_t).sum('xt_ocean').sum('yt_ocean') / area_sum\n",
    "slev_bott_ctrl_shelf = slev_bott_ctrl_shelf.load()\n",
    "\n",
    "slev_bott_ctrl_shelf.to_netcdf('slev_bott_ctrl_shelf.nc')"
   ]
  },
  {
   "cell_type": "code",
   "execution_count": null,
   "id": "1c282978-d55e-460f-91fe-8b4462d7767a",
   "metadata": {},
   "outputs": [],
   "source": [
    "clnt.restart()"
   ]
  },
  {
   "cell_type": "code",
   "execution_count": null,
   "id": "e529949f-c123-4265-a021-ced6851479b9",
   "metadata": {},
   "outputs": [],
   "source": [
    "depth_array = temp['up'] * 0 + temp['up'].st_ocean\n",
    "max_depth = depth_array.max(dim = 'st_ocean', skipna= True)\n",
    "\n",
    "depth_array = temp['up'] * 0 + temp['up'].st_ocean\n",
    "max_depth = depth_array.max(dim = 'st_ocean', skipna= True)\n",
    "\n",
    "temp_bott_up = temp['up'].where(depth_array.st_ocean >= max_depth-100)\n",
    "salt_bott_up = salt['up'].where(depth_array.st_ocean >= max_depth-100)\n",
    "\n",
    "p_up = gsw.p_from_z(-temp_bott_up['st_ocean'], temp_bott_up['yt_ocean'])\n",
    "salt_abs = gsw.SA_from_SP(salt_bott_up, p_up, salt_bott_up['xt_ocean'], salt_bott_up['yt_ocean'])\n",
    "\n",
    "# Density changes due to temp/salt changes\n",
    "ρ_mean_up = gsw.rho(salt_bott_up.mean('time'), temp_bott_up.mean('time'), p_up)\n",
    "ρ_anom_up = (gsw.rho(salt_bott_up, temp_bott_up, p_up) - ρ_mean_up) / ρ_mean_up\n",
    "\n",
    "# Height of t-cells\n",
    "dzt = cc.querying.getvar(experiment_eup, 'dzt', session_eas, frequency = '1 monthly', start_time = ti, end_time = tf).sel(time = slice(ti, tf), yt_ocean = slice(None, -50))\n",
    "\n",
    "# Integrating surface layer\n",
    "slev_bott_up = (ρ_anom_up * dzt.where(depth_array.st_ocean >= max_depth-100)).sum('st_ocean')\n",
    "slev_bott_up = slev_bott_up.chunk({'xt_ocean':'500MB', 'yt_ocean':'500MB'})\n",
    "slev_bott_up = slev_bott_up.load()\n",
    "\n",
    "# Averaging on shelf\n",
    "slev_bott_up_shelf, shelf_mask = shelf_mask_isobath(slev_bott_up)\n",
    "slev_bott_up_shelf = (slev_bott_up_shelf*area_t).sum('xt_ocean').sum('yt_ocean') / area_sum\n",
    "\n",
    "slev_bott_up_shelf.to_netcdf('slev_bott_up_shelf.nc')"
   ]
  },
  {
   "cell_type": "code",
   "execution_count": null,
   "id": "0d8cc480-4aa5-4b90-bc06-f3b7c7d86874",
   "metadata": {},
   "outputs": [],
   "source": [
    "clnt.restart()"
   ]
  },
  {
   "cell_type": "code",
   "execution_count": null,
   "id": "5a4bf05f-f57d-410c-a52b-728da172ee9d",
   "metadata": {
    "tags": []
   },
   "outputs": [],
   "source": [
    "depth_array = temp['down'] * 0 + temp['down'].st_ocean\n",
    "max_depth = depth_array.max(dim = 'st_ocean', skipna= True)\n",
    "\n",
    "depth_array = temp['down'] * 0 + temp['down'].st_ocean\n",
    "max_depth = depth_array.max(dim = 'st_ocean', skipna= True)\n",
    "\n",
    "temp_bott_down = temp['down'].where(depth_array.st_ocean >= max_depth-100)\n",
    "salt_bott_down = salt['down'].where(depth_array.st_ocean >= max_depth-100)\n",
    "\n",
    "p_down = gsw.p_from_z(-temp_bott_down['st_ocean'], temp_bott_down['yt_ocean'])\n",
    "salt_abs = gsw.SA_from_SP(salt_bott_down, p_down, salt_bott_down['xt_ocean'], salt_bott_down['yt_ocean'])\n",
    "\n",
    "ρ_mean_down = gsw.rho(salt_bott_down.mean('time'), temp_bott_down.mean('time'), p_down)\n",
    "ρ_anom_down = (gsw.rho(salt_bott_down, temp_bott_down, p_down) - ρ_mean_down) / ρ_mean_down\n",
    "\n",
    "# Height of t-cells\n",
    "dzt = cc.querying.getvar(experiment_edo, 'dzt', session_eas, frequency = '1 monthly', start_time = ti, end_time = tf).sel(time = slice(ti, tf), yt_ocean = slice(None, -50))\n",
    "\n",
    "# Integrating surface layer\n",
    "slev_bott_down = (ρ_anom_down * dzt.where(depth_array.st_ocean >= max_depth-100)).sum('st_ocean')\n",
    "slev_bott_down = slev_bott_down.chunk({'xt_ocean':'500MB', 'yt_ocean':'500MB'})\n",
    "slev_bott_down = slev_bott_down.load()\n",
    "\n",
    "# Averaging on shelf\n",
    "slev_bott_down_shelf, shelf_mask = shelf_mask_isobath(slev_bott_down)\n",
    "slev_bott_down_shelf = (slev_bott_down_shelf*area_t).sum('xt_ocean').sum('yt_ocean') / area_sum\n",
    "\n",
    "slev_bott_down_shelf.to_netcdf('slev_bott_down_shelf.nc')"
   ]
  },
  {
   "cell_type": "code",
   "execution_count": null,
   "id": "f44c057c-38e9-46c1-90c9-d584aa402ecc",
   "metadata": {},
   "outputs": [],
   "source": []
  }
 ],
 "metadata": {
  "kernelspec": {
   "display_name": "Python [conda env:analysis3-21.04]",
   "language": "python",
   "name": "conda-env-analysis3-21.04-py"
  },
  "language_info": {
   "codemirror_mode": {
    "name": "ipython",
    "version": 3
   },
   "file_extension": ".py",
   "mimetype": "text/x-python",
   "name": "python",
   "nbconvert_exporter": "python",
   "pygments_lexer": "ipython3",
   "version": "3.8.10"
  }
 },
 "nbformat": 4,
 "nbformat_minor": 5
}
