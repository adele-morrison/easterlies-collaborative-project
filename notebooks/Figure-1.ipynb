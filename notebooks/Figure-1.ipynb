{
 "cells": [
  {
   "cell_type": "markdown",
   "id": "9bbf3fdb-47e4-403e-b482-bf0ffbe34946",
   "metadata": {},
   "source": [
    "# Experimental design (enhancing/relaxation of climatological wind field)"
   ]
  },
  {
   "cell_type": "code",
   "execution_count": 1,
   "id": "b5e90d52-beed-49cf-a80b-2650f1bf62bc",
   "metadata": {
    "tags": []
   },
   "outputs": [
    {
     "data": {
      "text/html": [
       "<table style=\"border: 2px solid white;\">\n",
       "<tr>\n",
       "<td style=\"vertical-align: top; border: 0px solid white\">\n",
       "<h3 style=\"text-align: left;\">Client</h3>\n",
       "<ul style=\"text-align: left; list-style: none; margin: 0; padding: 0;\">\n",
       "  <li><b>Scheduler: </b>tcp://127.0.0.1:39859</li>\n",
       "  <li><b>Dashboard: </b><a href='/proxy/8787/status' target='_blank'>/proxy/8787/status</a></li>\n",
       "</ul>\n",
       "</td>\n",
       "<td style=\"vertical-align: top; border: 0px solid white\">\n",
       "<h3 style=\"text-align: left;\">Cluster</h3>\n",
       "<ul style=\"text-align: left; list-style:none; margin: 0; padding: 0;\">\n",
       "  <li><b>Workers: </b>6</li>\n",
       "  <li><b>Cores: </b>24</li>\n",
       "  <li><b>Memory: </b>96.00 GiB</li>\n",
       "</ul>\n",
       "</td>\n",
       "</tr>\n",
       "</table>"
      ],
      "text/plain": [
       "<Client: 'tcp://127.0.0.1:39859' processes=6 threads=24, memory=96.00 GiB>"
      ]
     },
     "execution_count": 1,
     "metadata": {},
     "output_type": "execute_result"
    }
   ],
   "source": [
    "import cartopy.crs as ccrs\n",
    "import cartopy.feature as cfeature\n",
    "import cmocean\n",
    "import cosima_cookbook as cc\n",
    "import dask.distributed as dsk\n",
    "import glob\n",
    "import matplotlib.gridspec as gs\n",
    "import matplotlib.path as mpath\n",
    "import matplotlib.patches as mpatches\n",
    "import matplotlib.pyplot as plt\n",
    "import matplotlib.ticker as mticker\n",
    "import numpy as np\n",
    "import xarray as xr\n",
    "from cartopy.mpl.ticker import LongitudeFormatter, LatitudeFormatter\\\n",
    "from cartopy.util import add_cyclic_point\n",
    "\n",
    "import warnings # ignore these warnings\n",
    "warnings.filterwarnings(\"ignore\", category = FutureWarning)\n",
    "warnings.filterwarnings(\"ignore\", category = UserWarning)\n",
    "warnings.filterwarnings(\"ignore\", category = RuntimeWarning)\n",
    "\n",
    "figdir = '/home/561/jn8053/g_e14/figures-tmp/easterlies-collaborative/'\n",
    "\n",
    "clnt = dsk.Client()\n",
    "clnt"
   ]
  },
  {
   "cell_type": "markdown",
   "id": "d707931b-341c-4bb5-ae47-25241a15aeb3",
   "metadata": {},
   "source": [
    "Load datasets"
   ]
  },
  {
   "cell_type": "code",
   "execution_count": 3,
   "id": "5d6a0a09-6951-4147-b608-3e1d9b09e30d",
   "metadata": {},
   "outputs": [],
   "source": [
    "session_ryf = cc.database.create_session()\n",
    "experiment_ryf = '01deg_jra55v13_ryf9091'\n",
    "\n",
    "ht = cc.querying.getvar(experiment_ryf, 'ht', session_ryf, n = 1).sel(yt_ocean = slice(None, -50))\n",
    "ht = ht.interp(yt_ocean = np.flip(np.arange(-50.03, -90, -.1)))\n",
    "\n",
    "iso = xr.open_dataset('~/g_e14/misc/Antarctic_isobath_1000m.nc')"
   ]
  },
  {
   "cell_type": "code",
   "execution_count": 4,
   "id": "220c045b-7f0f-46f5-bde5-2895855c2f7c",
   "metadata": {},
   "outputs": [],
   "source": [
    "u_file = '/g/data/x77/amh157/JRA55-do/RYF/v1-3/RYF.u_10.1990_1991.nc'\n",
    "u = xr.open_dataset(u_file, decode_times = False)['uas_10m'].mean('time')\n",
    "v_file = '/g/data/x77/amh157/JRA55-do/RYF/v1-3/RYF.v_10.1990_1991.nc'\n",
    "v = xr.open_dataset(v_file, decode_times = False)['vas_10m'].mean('time')\n",
    "\n",
    "wind_speed = np.sqrt(u**2 + v**2)"
   ]
  },
  {
   "cell_type": "markdown",
   "id": "0fabb17d-0bc9-470d-9877-414b9b49c1cb",
   "metadata": {},
   "source": [
    "Zero divide line:"
   ]
  },
  {
   "cell_type": "code",
   "execution_count": 6,
   "id": "d79dbb7a-41c9-4c9b-854c-4f2a21845c68",
   "metadata": {},
   "outputs": [],
   "source": [
    "# mask peninsula to avoid anomalies there:\n",
    "peninsula_mask = wind_speed.where(wind_speed.latitude<-68).where(wind_speed.longitude>285).where(wind_speed.longitude<296)*0\n",
    "peninsula_mask = peninsula_mask.fillna(1)\n",
    "peninsula_mask = peninsula_mask.where(peninsula_mask==1)\n",
    "\n",
    "latitude = wind_speed.latitude\n",
    "longitude = wind_speed.longitude\n",
    "\n",
    "def find_min_lat(var):\n",
    "    # mask outside of 60 and 80S:\n",
    "    speed_mask = var.where(var.latitude<-60).where(var.latitude>-80)\n",
    "\n",
    "    # first pass at latitude indices where speed is a minimum:\n",
    "    min_lat_indices = (peninsula_mask*speed_mask).argmin(dim='latitude')\n",
    "\n",
    "    # remove large latitude jumps in min_lat_indices:\n",
    "    filtered_min_lat_indices = min_lat_indices.copy()\n",
    "    for i in range(len(longitude)-1):\n",
    "        if np.abs(min_lat_indices[i+1] - filtered_min_lat_indices[i]) > 4:\n",
    "            filtered_min_lat_indices[i+1] = np.maximum(min_lat_indices[i+1],filtered_min_lat_indices[i])\n",
    "\n",
    "    # and apply a smoothing:\n",
    "    smoothed_min_lat_indices = np.ceil((filtered_min_lat_indices.roll(longitude=3,roll_coords=False) + \\\n",
    "                                    filtered_min_lat_indices.roll(longitude=2,roll_coords=False) + \\\n",
    "                                    filtered_min_lat_indices.roll(longitude=1,roll_coords=False) + \\\n",
    "                                    filtered_min_lat_indices.roll(longitude=-1,roll_coords=False) + \\\n",
    "                                    filtered_min_lat_indices.roll(longitude=-2,roll_coords=False) +\n",
    "                                    filtered_min_lat_indices.roll(longitude=-3,roll_coords=False) + filtered_min_lat_indices)/7)\n",
    "\n",
    "    # pick out latitude values:\n",
    "    smoothed_min_lat = latitude.isel(latitude=smoothed_min_lat_indices.astype(int))\n",
    "    \n",
    "    return smoothed_min_lat"
   ]
  },
  {
   "cell_type": "code",
   "execution_count": 7,
   "id": "aa6e3b58-804a-4519-a2d2-bc54bb318ff6",
   "metadata": {},
   "outputs": [],
   "source": [
    "divide_line = find_min_lat(wind_speed)"
   ]
  },
  {
   "cell_type": "markdown",
   "id": "250d15f5-d58e-49df-8494-af2cb9cb1b73",
   "metadata": {},
   "source": [
    "Smooth the zero divide line and wrap it"
   ]
  },
  {
   "cell_type": "code",
   "execution_count": 10,
   "id": "2a43e914-b8f2-43cc-a487-c9e020d94d5f",
   "metadata": {},
   "outputs": [],
   "source": [
    "divide_tail = divide_line.isel(longitude = slice(-5, None))\n",
    "divide_tail['_lon_adj'] = divide_tail['longitude']-360\n",
    "divide_tail = divide_tail.swap_dims({'longitude': '_lon_adj'})\n",
    "divide_tail = divide_tail.sel(**{'_lon_adj': sorted(divide_tail._lon_adj)}).drop('longitude')\n",
    "divide_tail = divide_tail.rename({'_lon_adj': 'longitude'})\n",
    "\n",
    "divide_smoothed = xr.concat([divide_tail, divide_line], dim = 'longitude')\n",
    "divide_smoothed = divide_smoothed.rolling(longitude = 5).mean('longitude').dropna('longitude')"
   ]
  },
  {
   "cell_type": "code",
   "execution_count": 50,
   "id": "2d41e71e-93bc-475d-8763-ccfd0148e4e0",
   "metadata": {},
   "outputs": [],
   "source": [
    "theta = np.linspace(0, 2*np.pi, 100)\n",
    "center, radius = [0.5, 0.5], 0.5\n",
    "verts = np.vstack([np.sin(theta), np.cos(theta)]).T\n",
    "circle = mpath.Path(verts * radius + center)\n",
    "\n",
    "def figure_1():\n",
    "    fig = plt.figure(figsize = (30, 18))\n",
    "    gr = gs.GridSpec(2, 2, figure = fig, wspace = -.05, hspace = 0.15); \n",
    "    axs = [fig.add_subplot(gr[:,0], projection = ccrs.SouthPolarStereo()),\n",
    "           fig.add_subplot(gr[0,1], projection = ccrs.SouthPolarStereo()),\n",
    "           fig.add_subplot(gr[1,1], projection = ccrs.SouthPolarStereo())]\n",
    "    for ax, lb in zip(axs, ['a)', 'b)', 'c)']):\n",
    "        ax.set_extent([-180, 180, -90, -59.5], ccrs.PlateCarree())\n",
    "        ax.add_feature(cfeature.NaturalEarthFeature('physical', 'land', '50m', edgecolor = 'darkgrey', facecolor = 'darkgrey'))\n",
    "        ax.spines['geo']\n",
    "        ax.text(-0.03, .8, lb, transform=ax.transAxes, size = 18, weight='bold')\n",
    "        ax.patch.set_alpha(0)\n",
    "        ax.set_boundary(circle, transform = ax.transAxes)\n",
    "    \n",
    "    return fig, axs"
   ]
  },
  {
   "cell_type": "markdown",
   "id": "5e8db19f-4362-44f7-bf62-b36571174313",
   "metadata": {},
   "source": [
    "Wrap lons to avoid white line"
   ]
  },
  {
   "cell_type": "code",
   "execution_count": 15,
   "id": "3da3b50f-a491-4872-bcc7-71866c6b7058",
   "metadata": {},
   "outputs": [],
   "source": [
    "up, lon = add_cyclic_point(u, coord = longitude)\n",
    "vp, lon = add_cyclic_point(v, coord = longitude)\n",
    "ws, lon = add_cyclic_point(wind_speed, coord = longitude)"
   ]
  },
  {
   "cell_type": "markdown",
   "id": "ed43a9de-03a2-405d-ab77-e41c30088a31",
   "metadata": {},
   "source": [
    "Patches for the additional nokatabatics experiment"
   ]
  },
  {
   "cell_type": "code",
   "execution_count": 51,
   "id": "bc547869-45e9-4409-bd95-40eae9122834",
   "metadata": {},
   "outputs": [],
   "source": [
    "poly1 = mpatches.Polygon(np.transpose(np.array([[161.5,170,170,161.5,161.5],[-79,-79,-72,-72,-79]])), closed = True, ec = 'darkgoldenrod', \n",
    "                        fill = True, lw = 1, fc = 'goldenrod', alpha = 0.4, transform=ccrs.PlateCarree(), zorder = 2)\n",
    "poly2 = mpatches.Polygon(np.transpose(np.array([[58,73,73,58,58],[-69,-69,-67,-67,-69]])), closed = True, ec = 'darkgoldenrod', \n",
    "                        fill = True, lw = 1, fc = 'goldenrod', alpha = 0.4, transform=ccrs.PlateCarree(), zorder = 2)\n",
    "poly3 = mpatches.Polygon(np.transpose(np.array([[138,148,148,138,138],[-69,-69,-66.2,-66.2,-69]])), closed = True, ec = 'darkgoldenrod', \n",
    "                        fill = True, lw = 1, fc = 'goldenrod', alpha = 0.4, transform=ccrs.PlateCarree(), zorder = 2)\n",
    "poly4 = mpatches.Polygon(np.transpose(np.array([[297,305,305,320,320,305,305,297,297],[-70,-70,-75,-75,-79,-79,-77,-77,-70]])), closed = True, ec = 'darkgoldenrod', \n",
    "                        fill = True, lw = 1, fc = 'goldenrod', alpha = 0.4, transform=ccrs.PlateCarree(), zorder = 2)"
   ]
  },
  {
   "cell_type": "code",
   "execution_count": null,
   "id": "9a503f35-4b2d-494f-a8a2-75a48e6965b6",
   "metadata": {},
   "outputs": [],
   "source": [
    "plt.rcParams['font.size'] = 16\n",
    "fig, axs = figure_1()\n",
    "# Original wind field\n",
    "c = axs[0].streamplot(lon, u['latitude'], up, vp, color = ws, norm = mcolors.Normalize(vmin = 0, vmax = 8, clip = True),\n",
    "                      density = 2, arrowsize = 2, cmap = cmocean.cm.speed, transform = ccrs.PlateCarree(), zorder = 0)\n",
    "axs[0].plot(divide_smoothed['longitude'], divide_smoothed, color = 'navy', linewidth = 3, transform = ccrs.PlateCarree())\n",
    "axs[0].plot(iso['x'], iso['y'], color = 'k', linewidth = 1.5, transform = ccrs.PlateCarree())\n",
    "axs[0].contourf(ht['xt_ocean'], ht['yt_ocean'], xr.where(np.isnan(ht), 1, np.nan), colors = ['darkgrey'], \n",
    "                transform = ccrs.PlateCarree())\n",
    "cbar = fig.colorbar(c.lines, cax = fig.add_axes([0.535, 0.4, 0.015, 0.2]) , orientation = 'vertical')\n",
    "cbar.set_ticks(np.arange(0, 10, 2))\n",
    "cbar.set_label('Wind speed [m/s]')\n",
    "\n",
    "# Masked regions\n",
    "axs[0].add_patch(poly1)\n",
    "axs[0].add_patch(poly2)\n",
    "axs[0].add_patch(poly3)\n",
    "axs[0].add_patch(poly4)\n",
    "\n",
    "# UP perturbation\n",
    "axs[1].contourf(lon, u['latitude'], -up, cmap = cmocean.cm.balance, levels = np.arange(-8, 8.5, .5), \n",
    "                extend = 'both', transform = ccrs.PlateCarree())\n",
    "axs[1].plot(iso['x'], iso['y'], color = 'k', linewidth = 1, transform = ccrs.PlateCarree())\n",
    "axs[1].contourf(ht['xt_ocean'], ht['yt_ocean'], xr.where(np.isnan(ht), 1, np.nan), colors = ['darkgrey'], \n",
    "                transform = ccrs.PlateCarree())\n",
    "axs[1].set_title('Eastward wind', transform = axs[1].transAxes)\n",
    "\n",
    "# DOWN perturbation\n",
    "c = axs[2].contourf(lon, v['latitude'], vp, cmap = cmocean.cm.balance, levels = np.arange(-8, 8.5, .5), \n",
    "                extend = 'both', transform = ccrs.PlateCarree())\n",
    "axs[2].plot(iso['x'], iso['y'], color = 'k', linewidth = 1, transform = ccrs.PlateCarree())\n",
    "axs[2].contourf(ht['xt_ocean'], ht['yt_ocean'], xr.where(np.isnan(ht), 1, np.nan), colors = ['darkgrey'], \n",
    "                transform = ccrs.PlateCarree())\n",
    "axs[2].set_title('Northward wind', transform = axs[2].transAxes)\n",
    "cbar = fig.colorbar(c, cax = fig.add_axes([0.82, 0.4, 0.015, 0.2]) , orientation = 'vertical')\n",
    "cbar.set_ticks(np.arange(-8, 10, 2))\n",
    "cbar.set_label('Wind velocity [m/s]')\n",
    "plt.savefig(figdir+'fig1_experimentalsetup.jpg', bbox_inches = 'tight')"
   ]
  },
  {
   "cell_type": "code",
   "execution_count": null,
   "id": "57def5cb-2b4f-4794-9dc3-bc3a38bb60ed",
   "metadata": {},
   "outputs": [],
   "source": []
  }
 ],
 "metadata": {
  "kernelspec": {
   "display_name": "Python [conda env:analysis3-21.04]",
   "language": "python",
   "name": "conda-env-analysis3-21.04-py"
  },
  "language_info": {
   "codemirror_mode": {
    "name": "ipython",
    "version": 3
   },
   "file_extension": ".py",
   "mimetype": "text/x-python",
   "name": "python",
   "nbconvert_exporter": "python",
   "pygments_lexer": "ipython3",
   "version": "3.8.10"
  }
 },
 "nbformat": 4,
 "nbformat_minor": 5
}
