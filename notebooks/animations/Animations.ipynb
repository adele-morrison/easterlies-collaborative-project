{
 "cells": [
  {
   "cell_type": "markdown",
   "id": "f79046b8-dd8c-4466-a412-66c778a33f72",
   "metadata": {},
   "source": [
    "# Animations\n",
    "\n",
    "Movies of several variables through the experiments"
   ]
  },
  {
   "cell_type": "code",
   "execution_count": 2,
   "id": "321f5b3c-0ad4-4186-bb73-d3b694bdd8b1",
   "metadata": {},
   "outputs": [
    {
     "data": {
      "text/html": [
       "<table style=\"border: 2px solid white;\">\n",
       "<tr>\n",
       "<td style=\"vertical-align: top; border: 0px solid white\">\n",
       "<h3 style=\"text-align: left;\">Client</h3>\n",
       "<ul style=\"text-align: left; list-style: none; margin: 0; padding: 0;\">\n",
       "  <li><b>Scheduler: </b>tcp://127.0.0.1:33793</li>\n",
       "  <li><b>Dashboard: </b><a href='/proxy/36925/status' target='_blank'>/proxy/36925/status</a></li>\n",
       "</ul>\n",
       "</td>\n",
       "<td style=\"vertical-align: top; border: 0px solid white\">\n",
       "<h3 style=\"text-align: left;\">Cluster</h3>\n",
       "<ul style=\"text-align: left; list-style:none; margin: 0; padding: 0;\">\n",
       "  <li><b>Workers: </b>6</li>\n",
       "  <li><b>Cores: </b>24</li>\n",
       "  <li><b>Memory: </b>250.00 GiB</li>\n",
       "</ul>\n",
       "</td>\n",
       "</tr>\n",
       "</table>"
      ],
      "text/plain": [
       "<Client: 'tcp://127.0.0.1:33793' processes=6 threads=24, memory=250.00 GiB>"
      ]
     },
     "execution_count": 2,
     "metadata": {},
     "output_type": "execute_result"
    }
   ],
   "source": [
    "import cartopy.crs as ccrs\n",
    "import cartopy.feature as cfeature\n",
    "import cmocean\n",
    "import cosima_cookbook as cc\n",
    "import dask.distributed as dsk\n",
    "import glob\n",
    "import matplotlib.gridspec as gs\n",
    "import matplotlib.path as mpath\n",
    "import matplotlib.pyplot as plt\n",
    "import matplotlib.ticker as mticker\n",
    "import numpy as np\n",
    "import scipy.stats as st\n",
    "import xarray as xr\n",
    "from cartopy.mpl.ticker import LongitudeFormatter, LatitudeFormatter\n",
    "from palettable.colorbrewer.diverging import RdBu_11_r as rdbu_cm\n",
    "from joblib import Parallel, delayed\n",
    "\n",
    "import warnings # ignore these warnings\n",
    "warnings.filterwarnings(\"ignore\", category = FutureWarning)\n",
    "warnings.filterwarnings(\"ignore\", category = UserWarning)\n",
    "warnings.filterwarnings(\"ignore\", category = RuntimeWarning)\n",
    "\n",
    "figdir = '/home/561/jn8053/g_e14/figures-tmp/'\n",
    "\n",
    "clnt = dsk.Client()\n",
    "clnt"
   ]
  },
  {
   "cell_type": "code",
   "execution_count": 3,
   "id": "9ca2e678-14dd-4cf2-9023-7874c7db43ab",
   "metadata": {},
   "outputs": [],
   "source": [
    "# Font size\n",
    "plt.rcParams['font.size'] = 16\n",
    "# Axes\n",
    "plt.rcParams['axes.facecolor'] = 'white'\n",
    "plt.rcParams['xtick.labelsize'] = 16\n",
    "plt.rcParams['ytick.labelsize'] = 16\n",
    "# Saving parameters\n",
    "plt.rcParams['savefig.dpi'] = 100\n",
    "plt.rcParams['savefig.bbox'] = 'tight'"
   ]
  },
  {
   "cell_type": "code",
   "execution_count": 46,
   "id": "7f17e4e2-7ee8-413c-9ef9-54851c976c2f",
   "metadata": {},
   "outputs": [],
   "source": [
    "def figure_along_slope():\n",
    "    \n",
    "    fig, axs = plt.subplots(2, figsize = (15, 10))\n",
    "    for ax in axs:\n",
    "        ax.set_ylim(-80, -60);\n",
    "        ax.set_xticks(np.arange(-250, 100, 50))\n",
    "        ax.set_yticks(np.arange(-80, -55, 5))\n",
    "    axs[0].set_title('UP')\n",
    "    axs[1].set_title('DOWN')\n",
    "    \n",
    "    return fig, axs"
   ]
  },
  {
   "cell_type": "code",
   "execution_count": 17,
   "id": "fba71987-6888-4c67-a551-05584cb99c2c",
   "metadata": {},
   "outputs": [],
   "source": [
    "session = cc.database.create_session()"
   ]
  },
  {
   "cell_type": "code",
   "execution_count": 22,
   "id": "5ff4506b-f49d-47d5-802d-a8f1ece93f48",
   "metadata": {},
   "outputs": [],
   "source": [
    "mask_file = np.load('/g/data/e14/hd4873/runs/parcels/input/proj01/Antarctic_slope_contour_ht_1000m.npz')\n",
    "shelf_mask = mask_file['contour_masked_above']\n",
    "xt_ocean = mask_file['xt_ocean']\n",
    "yt_ocean = mask_file['yt_ocean']\n",
    "shelf_mask[shelf_mask != 0] = np.nan\n",
    "shelf_mask[shelf_mask == 0] = 1\n",
    "shelf_mask = xr.DataArray(shelf_mask, dims = ['yt_ocean', 'xt_ocean'], coords = {'yt_ocean':yt_ocean, 'xt_ocean':xt_ocean})"
   ]
  },
  {
   "cell_type": "code",
   "execution_count": 28,
   "id": "43e1df8b-2701-495d-b52a-3111918857c7",
   "metadata": {},
   "outputs": [],
   "source": [
    "ht = cc.querying.getvar('01deg_jra55v13_ryf9091', 'ht', session, n = 1)"
   ]
  },
  {
   "cell_type": "markdown",
   "id": "deefc15f-7d1d-4e17-bd98-1ec472cbf32f",
   "metadata": {},
   "source": [
    "# SST"
   ]
  },
  {
   "cell_type": "code",
   "execution_count": 76,
   "id": "88dc57be-1c15-4e74-b2c2-2f87881e576c",
   "metadata": {},
   "outputs": [],
   "source": [
    "sst = {}\n",
    "sst['ryf'] = cc.querying.getvar('01deg_jra55v13_ryf9091', 'surface_temp', session, frequency = '1 monthly', start_time = '2150-01-01', end_time = '2164-12-31').sel(time = slice('2150-01-01', None))\n",
    "sst['eup'] = cc.querying.getvar('01deg_jra55v13_ryf9091_easterlies_up10', 'surface_temp', session, frequency = '1 monthly', start_time = '2150-01-01', end_time = '2164-12-31')\n",
    "sst['edo'] = cc.querying.getvar('01deg_jra55v13_ryf9091_easterlies_down10', 'surface_temp', session, frequency = '1 monthly', start_time = '2150-01-01', end_time = '2164-12-31')"
   ]
  },
  {
   "cell_type": "code",
   "execution_count": 78,
   "id": "bf6e12f1-b162-4752-b5ba-8b2e46d698b4",
   "metadata": {},
   "outputs": [],
   "source": [
    "for k in ['ryf', 'eup', 'edo']:\n",
    "    sst[k] = sst[k].sel(yt_ocean = slice(None, -50))*shelf_mask"
   ]
  },
  {
   "cell_type": "code",
   "execution_count": 93,
   "id": "444788d9-206a-42a8-9c16-27e6202d90cd",
   "metadata": {},
   "outputs": [],
   "source": [
    "def figures_parallel(i):\n",
    "    fig, axs = figure_along_slope()\n",
    "    \n",
    "    axs[0].text(0.98, 0.08, str(sst['ryf'].isel(time = i)['time.year'].values)+'-'+str(sst['ryf'].isel(time = i)['time.month'].values), \n",
    "                horizontalalignment = 'right', transform = axs[0].transAxes);\n",
    "    psi = axs[0].contourf(sst['ryf']['xt_ocean'], sst['ryf']['yt_ocean'], sst['eup'].isel(time = i)-sst['ryf'].isel(time = i), \n",
    "                          levels = np.arange(-.15, .16, .01), cmap = 'RdBu_r', extend = 'both')\n",
    "    axs[0].contour(ht['xt_ocean'], ht['yt_ocean'], ht, levels = [1000, 3000], colors = 'k', linewidths = 0.5)\n",
    "    \n",
    "    axs[1].text(0.98, 0.08, str(sst['ryf'].isel(time = i)['time.year'].values)+'-'+str(sst['ryf'].isel(time = i)['time.month'].values), \n",
    "                horizontalalignment = 'right', transform = axs[1].transAxes);\n",
    "    psi = axs[1].contourf(sst['ryf']['xt_ocean'], sst['ryf']['yt_ocean'], sst['edo'].isel(time = i)-sst['ryf'].isel(time = i), \n",
    "                          levels = np.arange(-.15, .16, .01), cmap = 'RdBu_r', extend = 'both')\n",
    "    axs[1].contour(ht['xt_ocean'], ht['yt_ocean'], ht, levels = [1000, 3000], colors = 'k', linewidths = 0.5)\n",
    "    \n",
    "    fig.colorbar(psi, orientation = 'horizontal', shrink = .5).set_label('SSTa [$^{\\circ}$C]')\n",
    "    plt.savefig(figdir+'easterlies-collaborative/figs-to-animate/sst/sst-'+str(i).zfill(3)+'.png', facecolor = 'white')\n",
    "    plt.close()"
   ]
  },
  {
   "cell_type": "code",
   "execution_count": 92,
   "id": "c4c41e55-4a09-41f3-8c88-5f409dee404e",
   "metadata": {},
   "outputs": [],
   "source": [
    "Parallel(n_jobs = -1)(delayed(figures_parallel)(n) for n in range(len(sst['ryf']['time'])));"
   ]
  },
  {
   "cell_type": "markdown",
   "id": "98cc9fb3-0dd1-4a70-aed6-e8df6499d3aa",
   "metadata": {},
   "source": [
    "# SSS"
   ]
  },
  {
   "cell_type": "code",
   "execution_count": 96,
   "id": "460a84aa-4b3c-4113-af35-4bfed983be3c",
   "metadata": {},
   "outputs": [],
   "source": [
    "sss = {}\n",
    "sss['ryf'] = cc.querying.getvar('01deg_jra55v13_ryf9091', 'surface_salt', session, frequency = '1 monthly', start_time = '2150-01-01', end_time = '2164-12-31').sel(time = slice('2150-01-01', None))\n",
    "sss['eup'] = cc.querying.getvar('01deg_jra55v13_ryf9091_easterlies_up10', 'surface_salt', session, frequency = '1 monthly', start_time = '2150-01-01', end_time = '2164-12-31')\n",
    "sss['edo'] = cc.querying.getvar('01deg_jra55v13_ryf9091_easterlies_down10', 'surface_salt', session, frequency = '1 monthly', start_time = '2150-01-01', end_time = '2164-12-31')"
   ]
  },
  {
   "cell_type": "code",
   "execution_count": 97,
   "id": "40e65765-d8d7-4f15-86ad-3aa04d5827c7",
   "metadata": {},
   "outputs": [],
   "source": [
    "for k in ['ryf', 'eup', 'edo']:\n",
    "    sss[k] = sss[k].sel(yt_ocean = slice(None, -50))*shelf_mask"
   ]
  },
  {
   "cell_type": "code",
   "execution_count": 99,
   "id": "a56a6c86-bd7b-4292-8d29-ead687ad77fb",
   "metadata": {},
   "outputs": [],
   "source": [
    "def figures_parallel(i):\n",
    "    fig, axs = figure_along_slope()\n",
    "    \n",
    "    axs[0].text(0.98, 0.08, str(sss['ryf'].isel(time = i)['time.year'].values)+'-'+str(sss['ryf'].isel(time = i)['time.month'].values), \n",
    "                horizontalalignment = 'right', transform = axs[0].transAxes);\n",
    "    psi = axs[0].contourf(sss['ryf']['xt_ocean'], sss['ryf']['yt_ocean'], sss['eup'].isel(time = i)-sss['ryf'].isel(time = i), \n",
    "                          levels = np.arange(-.15, .16, .01), cmap = 'RdBu_r', extend = 'both')\n",
    "    axs[0].contour(ht['xt_ocean'], ht['yt_ocean'], ht, levels = [1000, 3000], colors = 'k', linewidths = 0.5)\n",
    "    \n",
    "    axs[1].text(0.98, 0.08, str(sss['ryf'].isel(time = i)['time.year'].values)+'-'+str(sss['ryf'].isel(time = i)['time.month'].values), \n",
    "                horizontalalignment = 'right', transform = axs[1].transAxes);\n",
    "    psi = axs[1].contourf(sss['ryf']['xt_ocean'], sss['ryf']['yt_ocean'], sss['edo'].isel(time = i)-sss['ryf'].isel(time = i), \n",
    "                          levels = np.arange(-.15, .16, .01), cmap = 'RdBu_r', extend = 'both')\n",
    "    axs[1].contour(ht['xt_ocean'], ht['yt_ocean'], ht, levels = [1000, 3000], colors = 'k', linewidths = 0.5)\n",
    "    \n",
    "    fig.colorbar(psi, orientation = 'horizontal', shrink = .5).set_label('SSSa')\n",
    "    plt.savefig(figdir+'easterlies-collaborative/figs-to-animate/sss/sss-'+str(i).zfill(3)+'.png', facecolor = 'white')\n",
    "    plt.close()"
   ]
  },
  {
   "cell_type": "code",
   "execution_count": 100,
   "id": "da941908-c79c-4081-9f5b-922c7b309424",
   "metadata": {},
   "outputs": [],
   "source": [
    "Parallel(n_jobs = -1)(delayed(figures_parallel)(n) for n in range(len(sss['ryf']['time'])));"
   ]
  },
  {
   "cell_type": "code",
   "execution_count": null,
   "id": "fd89e853-1b9a-424a-b946-7b286c508c10",
   "metadata": {},
   "outputs": [],
   "source": []
  }
 ],
 "metadata": {
  "kernelspec": {
   "display_name": "Python [conda env:analysis3-21.04]",
   "language": "python",
   "name": "conda-env-analysis3-21.04-py"
  },
  "language_info": {
   "codemirror_mode": {
    "name": "ipython",
    "version": 3
   },
   "file_extension": ".py",
   "mimetype": "text/x-python",
   "name": "python",
   "nbconvert_exporter": "python",
   "pygments_lexer": "ipython3",
   "version": "3.8.10"
  }
 },
 "nbformat": 4,
 "nbformat_minor": 5
}
