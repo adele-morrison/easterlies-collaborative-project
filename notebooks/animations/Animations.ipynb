{
 "cells": [
  {
   "cell_type": "markdown",
   "id": "f79046b8-dd8c-4466-a412-66c778a33f72",
   "metadata": {},
   "source": [
    "# Animations\n",
    "\n",
    "Movies of several variables through the experiments"
   ]
  },
  {
   "cell_type": "code",
   "execution_count": 2,
   "id": "321f5b3c-0ad4-4186-bb73-d3b694bdd8b1",
   "metadata": {},
   "outputs": [
    {
     "data": {
      "text/html": [
       "<table style=\"border: 2px solid white;\">\n",
       "<tr>\n",
       "<td style=\"vertical-align: top; border: 0px solid white\">\n",
       "<h3 style=\"text-align: left;\">Client</h3>\n",
       "<ul style=\"text-align: left; list-style: none; margin: 0; padding: 0;\">\n",
       "  <li><b>Scheduler: </b>tcp://127.0.0.1:46229</li>\n",
       "  <li><b>Dashboard: </b><a href='/proxy/8787/status' target='_blank'>/proxy/8787/status</a></li>\n",
       "</ul>\n",
       "</td>\n",
       "<td style=\"vertical-align: top; border: 0px solid white\">\n",
       "<h3 style=\"text-align: left;\">Cluster</h3>\n",
       "<ul style=\"text-align: left; list-style:none; margin: 0; padding: 0;\">\n",
       "  <li><b>Workers: </b>6</li>\n",
       "  <li><b>Cores: </b>24</li>\n",
       "  <li><b>Memory: </b>250.00 GiB</li>\n",
       "</ul>\n",
       "</td>\n",
       "</tr>\n",
       "</table>"
      ],
      "text/plain": [
       "<Client: 'tcp://127.0.0.1:46229' processes=6 threads=24, memory=250.00 GiB>"
      ]
     },
     "execution_count": 2,
     "metadata": {},
     "output_type": "execute_result"
    }
   ],
   "source": [
    "import cartopy.crs as ccrs\n",
    "import cartopy.feature as cfeature\n",
    "import cmocean\n",
    "import cosima_cookbook as cc\n",
    "import dask.distributed as dsk\n",
    "import glob\n",
    "import matplotlib.gridspec as gs\n",
    "import matplotlib.path as mpath\n",
    "import matplotlib.pyplot as plt\n",
    "import matplotlib.ticker as mticker\n",
    "import numpy as np\n",
    "import scipy.stats as st\n",
    "import xarray as xr\n",
    "from cartopy.mpl.ticker import LongitudeFormatter, LatitudeFormatter\n",
    "from palettable.colorbrewer.diverging import RdBu_11_r as rdbu_cm\n",
    "from joblib import Parallel, delayed\n",
    "\n",
    "import warnings # ignore these warnings\n",
    "warnings.filterwarnings(\"ignore\", category = FutureWarning)\n",
    "warnings.filterwarnings(\"ignore\", category = UserWarning)\n",
    "warnings.filterwarnings(\"ignore\", category = RuntimeWarning)\n",
    "\n",
    "figdir = '/home/561/jn8053/g_e14/figures-tmp/'\n",
    "\n",
    "clnt = dsk.Client()\n",
    "clnt"
   ]
  },
  {
   "cell_type": "code",
   "execution_count": 3,
   "id": "9ca2e678-14dd-4cf2-9023-7874c7db43ab",
   "metadata": {},
   "outputs": [],
   "source": [
    "# Font size\n",
    "plt.rcParams['font.size'] = 16\n",
    "# Axes\n",
    "plt.rcParams['axes.facecolor'] = 'white'\n",
    "plt.rcParams['xtick.labelsize'] = 16\n",
    "plt.rcParams['ytick.labelsize'] = 16\n",
    "# Saving parameters\n",
    "plt.rcParams['savefig.dpi'] = 100\n",
    "plt.rcParams['savefig.bbox'] = 'tight'"
   ]
  },
  {
   "cell_type": "code",
   "execution_count": 22,
   "id": "7f17e4e2-7ee8-413c-9ef9-54851c976c2f",
   "metadata": {},
   "outputs": [],
   "source": [
    "def figure_along_slope():\n",
    "    fig = plt.figure(figsize = (15, 10))\n",
    "    gd = gs.GridSpec(2, 2, figure = fig, width_ratios = [1, .03])\n",
    "    axs = [fig.add_subplot(gd[0,0]), fig.add_subplot(gd[1,0]), fig.add_subplot(gd[:,1])]\n",
    "    for ax in axs[:-1]:\n",
    "        ax.set_ylim(-80, -60);\n",
    "        ax.set_xticks(np.arange(-250, 100, 50))\n",
    "        ax.set_yticks(np.arange(-80, -55, 5))\n",
    "    axs[0].set_title('UP')\n",
    "    axs[1].set_title('DOWN')\n",
    "    \n",
    "    return fig, axs"
   ]
  },
  {
   "cell_type": "code",
   "execution_count": 11,
   "id": "fba71987-6888-4c67-a551-05584cb99c2c",
   "metadata": {},
   "outputs": [],
   "source": [
    "session = cc.database.create_session()"
   ]
  },
  {
   "cell_type": "code",
   "execution_count": 12,
   "id": "5ff4506b-f49d-47d5-802d-a8f1ece93f48",
   "metadata": {},
   "outputs": [],
   "source": [
    "mask_file = np.load('/g/data/e14/hd4873/runs/parcels/input/proj01/Antarctic_slope_contour_ht_1000m.npz')\n",
    "shelf_mask = mask_file['contour_masked_above']\n",
    "xt_ocean = mask_file['xt_ocean']\n",
    "yt_ocean = mask_file['yt_ocean']\n",
    "shelf_mask[shelf_mask != 0] = np.nan\n",
    "shelf_mask[shelf_mask == 0] = 1\n",
    "shelf_mask = xr.DataArray(shelf_mask, dims = ['yt_ocean', 'xt_ocean'], coords = {'yt_ocean':yt_ocean, 'xt_ocean':xt_ocean})"
   ]
  },
  {
   "cell_type": "code",
   "execution_count": 13,
   "id": "43e1df8b-2701-495d-b52a-3111918857c7",
   "metadata": {},
   "outputs": [],
   "source": [
    "ht = cc.querying.getvar('01deg_jra55v13_ryf9091', 'ht', session, n = 1)"
   ]
  },
  {
   "cell_type": "markdown",
   "id": "4e57376d-09cb-40aa-8720-2fe59d1a2552",
   "metadata": {},
   "source": [
    "# Daily, first year"
   ]
  },
  {
   "cell_type": "markdown",
   "id": "deefc15f-7d1d-4e17-bd98-1ec472cbf32f",
   "metadata": {},
   "source": [
    "## SST"
   ]
  },
  {
   "cell_type": "code",
   "execution_count": 56,
   "id": "88dc57be-1c15-4e74-b2c2-2f87881e576c",
   "metadata": {},
   "outputs": [],
   "source": [
    "sst = {}\n",
    "sst['ryf'] = cc.querying.getvar('01deg_jra55v13_ryf9091', 'surface_temp', session, frequency = '1 daily', start_time = '2150-01-01', end_time = '2150-12-31').sel(time = slice('2150-01-01', '2150-12-31')).sel(yt_ocean = slice(None, -50))\n",
    "sst['eup'] = cc.querying.getvar('01deg_jra55v13_ryf9091_easterlies_up10', 'surface_temp', session, frequency = '1 daily', start_time = '2150-01-01', end_time = '2150-12-31').sel(time = slice('2150-01-01', '2150-12-31')).sel(yt_ocean = slice(None, -50))\n",
    "sst['edo'] = cc.querying.getvar('01deg_jra55v13_ryf9091_easterlies_down10', 'surface_temp', session, frequency = '1 daily', start_time = '2150-01-01', end_time = '2150-12-31').sel(time = slice('2150-01-01', '2150-12-31')).sel(yt_ocean = slice(None, -50))"
   ]
  },
  {
   "cell_type": "code",
   "execution_count": 60,
   "id": "bf6e12f1-b162-4752-b5ba-8b2e46d698b4",
   "metadata": {},
   "outputs": [],
   "source": [
    "for k in ['ryf', 'eup', 'edo']:\n",
    "    sst[k] = sst[k]*shelf_mask"
   ]
  },
  {
   "cell_type": "code",
   "execution_count": 67,
   "id": "444788d9-206a-42a8-9c16-27e6202d90cd",
   "metadata": {},
   "outputs": [],
   "source": [
    "def figures_parallel(i):\n",
    "    fig, axs = figure_along_slope()\n",
    "    \n",
    "    axs[0].text(0.98, 0.08, str(sst['ryf'].isel(time = i)['time.year'].values)+'-'+str(sst['ryf'].isel(time = i)['time.month'].values), \n",
    "                horizontalalignment = 'right', transform = axs[0].transAxes);\n",
    "    psi = axs[0].contourf(sst['ryf']['xt_ocean'], sst['ryf']['yt_ocean'], sst['eup'].isel(time = i)-sst['ryf'].isel(time = i), \n",
    "                          levels = np.arange(-.2, .21, .01), cmap = 'RdBu_r', extend = 'both')\n",
    "    axs[0].contour(ht['xt_ocean'], ht['yt_ocean'], ht, levels = [1000, 3000], colors = 'k', linewidths = 0.5)\n",
    "    \n",
    "    axs[1].text(0.98, 0.08, str(sst['ryf'].isel(time = i)['time.year'].values)+'-'+str(sst['ryf'].isel(time = i)['time.month'].values), \n",
    "                horizontalalignment = 'right', transform = axs[1].transAxes);\n",
    "    psi = axs[1].contourf(sst['ryf']['xt_ocean'], sst['ryf']['yt_ocean'], sst['edo'].isel(time = i)-sst['ryf'].isel(time = i), \n",
    "                          levels = np.arange(-.2, .21, .01), cmap = 'RdBu_r', extend = 'both')\n",
    "    axs[1].contour(ht['xt_ocean'], ht['yt_ocean'], ht, levels = [1000, 3000], colors = 'k', linewidths = 0.5)\n",
    "    \n",
    "    fig.colorbar(psi, cax = axs[2], orientation = 'vertical', shrink = .5).set_label('SST [$^{\\circ}$C]')\n",
    "    plt.savefig(figdir+'easterlies-collaborative/figs-to-animate/sst/sst-'+str(i).zfill(3)+'.png', facecolor = 'white', bbox_inches = 'tight')\n",
    "    plt.close()"
   ]
  },
  {
   "cell_type": "code",
   "execution_count": 68,
   "id": "c4c41e55-4a09-41f3-8c88-5f409dee404e",
   "metadata": {},
   "outputs": [],
   "source": [
    "Parallel(n_jobs = -1)(delayed(figures_parallel)(n) for n in range(len(sst['ryf']['time'])));"
   ]
  },
  {
   "cell_type": "markdown",
   "id": "98cc9fb3-0dd1-4a70-aed6-e8df6499d3aa",
   "metadata": {},
   "source": [
    "## SSS"
   ]
  },
  {
   "cell_type": "code",
   "execution_count": 63,
   "id": "460a84aa-4b3c-4113-af35-4bfed983be3c",
   "metadata": {},
   "outputs": [],
   "source": [
    "sss = {}\n",
    "sss['ryf'] = cc.querying.getvar('01deg_jra55v13_ryf9091', 'surface_salt', session, frequency = '1 daily', start_time = '2150-01-01', end_time = '2150-12-31').sel(time = slice('2150-01-01', '2150-12-31'))\n",
    "sss['eup'] = cc.querying.getvar('01deg_jra55v13_ryf9091_easterlies_up10', 'surface_salt', session, frequency = '1 daily', start_time = '2150-01-01', end_time = '2150-12-31').sel(time = slice('2150-01-01', '2150-12-31'))\n",
    "sss['edo'] = cc.querying.getvar('01deg_jra55v13_ryf9091_easterlies_down10', 'surface_salt', session, frequency = '1 daily', start_time = '2150-01-01', end_time = '2150-12-31').sel(time = slice('2150-01-01', '2150-12-31'))"
   ]
  },
  {
   "cell_type": "code",
   "execution_count": 64,
   "id": "40e65765-d8d7-4f15-86ad-3aa04d5827c7",
   "metadata": {},
   "outputs": [],
   "source": [
    "for k in ['ryf', 'eup', 'edo']:\n",
    "    sss[k] = sss[k].sel(yt_ocean = slice(None, -50))*shelf_mask"
   ]
  },
  {
   "cell_type": "code",
   "execution_count": 69,
   "id": "a56a6c86-bd7b-4292-8d29-ead687ad77fb",
   "metadata": {},
   "outputs": [],
   "source": [
    "def figures_parallel(i):\n",
    "    fig, axs = figure_along_slope()\n",
    "    \n",
    "    axs[0].text(0.98, 0.08, str(sss['ryf'].isel(time = i)['time.year'].values)+'-'+str(sss['ryf'].isel(time = i)['time.month'].values), \n",
    "                horizontalalignment = 'right', transform = axs[0].transAxes);\n",
    "    psi = axs[0].contourf(sss['ryf']['xt_ocean'], sss['ryf']['yt_ocean'], sss['eup'].isel(time = i)-sss['ryf'].isel(time = i), \n",
    "                          levels = np.arange(-.15, .16, .01), cmap = 'RdBu_r', extend = 'both')\n",
    "    axs[0].contour(ht['xt_ocean'], ht['yt_ocean'], ht, levels = [1000, 3000], colors = 'k', linewidths = 0.5)\n",
    "    \n",
    "    axs[1].text(0.98, 0.08, str(sss['ryf'].isel(time = i)['time.year'].values)+'-'+str(sss['ryf'].isel(time = i)['time.month'].values), \n",
    "                horizontalalignment = 'right', transform = axs[1].transAxes);\n",
    "    psi = axs[1].contourf(sss['ryf']['xt_ocean'], sss['ryf']['yt_ocean'], sss['edo'].isel(time = i)-sss['ryf'].isel(time = i), \n",
    "                          levels = np.arange(-.15, .16, .01), cmap = 'RdBu_r', extend = 'both')\n",
    "    axs[1].contour(ht['xt_ocean'], ht['yt_ocean'], ht, levels = [1000, 3000], colors = 'k', linewidths = 0.5)\n",
    "    \n",
    "    fig.colorbar(psi, cax = axs[2], orientation = 'vertical', shrink = .5).set_label('SSS')\n",
    "    plt.savefig(figdir+'easterlies-collaborative/figs-to-animate/sss/sss-'+str(i).zfill(3)+'.png', facecolor = 'white', bbox_inches = 'tight')\n",
    "    plt.close()"
   ]
  },
  {
   "cell_type": "code",
   "execution_count": 70,
   "id": "da941908-c79c-4081-9f5b-922c7b309424",
   "metadata": {},
   "outputs": [],
   "source": [
    "Parallel(n_jobs = -1)(delayed(figures_parallel)(n) for n in range(len(sss['ryf']['time'])));"
   ]
  },
  {
   "cell_type": "markdown",
   "id": "88ff8e85-8dc0-4cba-af5e-15f2e5817198",
   "metadata": {},
   "source": [
    "## Bottom temp"
   ]
  },
  {
   "cell_type": "code",
   "execution_count": 74,
   "id": "780d40b7-1962-4bdd-b48c-8c6ed527380e",
   "metadata": {},
   "outputs": [],
   "source": [
    "temp = {}\n",
    "temp['ryf'] = cc.querying.getvar('01deg_jra55v13_ryf9091', 'temp', session, frequency = '1 monthly', start_time = '2150-01-01', end_time = '2154-12-31').sel(time = slice('2150-01-01', '2154-12-31')).sel(yt_ocean = slice(None, -50))\n",
    "temp['eup'] = cc.querying.getvar('01deg_jra55v13_ryf9091_easterlies_up10', 'temp', session, frequency = '1 monthly', start_time = '2150-01-01', end_time = '2154-12-31').sel(time = slice('2150-01-01', '2154-12-31')).sel(yt_ocean = slice(None, -50))\n",
    "temp['edo'] = cc.querying.getvar('01deg_jra55v13_ryf9091_easterlies_down10', 'temp', session, frequency = '1 monthly', start_time = '2150-01-01', end_time = '2154-12-31').sel(time = slice('2150-01-01', '2154-12-31')).sel(yt_ocean = slice(None, -50))"
   ]
  },
  {
   "cell_type": "code",
   "execution_count": 76,
   "id": "96faab75-5d6e-4845-8262-14f4e353622a",
   "metadata": {},
   "outputs": [],
   "source": [
    "depth_array = temp['ryf'] * 0 + temp['ryf']['st_ocean']\n",
    "max_depth = depth_array.max(dim = 'st_ocean', skipna = True)\n",
    "btemp = {}\n",
    "for k in ['ryf', 'eup', 'edo']:\n",
    "    btemp[k] = temp[k].where(depth_array.st_ocean >= max_depth)\n",
    "    btemp[k] = btemp[k].sum('st_ocean')\n",
    "    btemp[k] = btemp[k]*shelf_mask"
   ]
  },
  {
   "cell_type": "code",
   "execution_count": 107,
   "id": "40c2f702-41b8-45d5-b7ae-8fa20bf5d546",
   "metadata": {},
   "outputs": [],
   "source": [
    "def figures_parallel(i):\n",
    "    fig, axs = figure_along_slope()\n",
    "    \n",
    "    axs[0].text(0.98, 0.08, str(btemp['ryf'].isel(time = i)['time.year'].values)+'-'+str(btemp['ryf'].isel(time = i)['time.month'].values), \n",
    "                horizontalalignment = 'right', transform = axs[0].transAxes);\n",
    "    psi = axs[0].contourf(btemp['ryf']['xt_ocean'], btemp['ryf']['yt_ocean'], \n",
    "                          (btemp['eup'].isel(time = i)-btemp['ryf'].isel(time = i)).where(btemp['ryf'].isel(time = i)!= 0), \n",
    "                          levels = np.arange(-.2, .21, .01), cmap = 'RdBu_r', extend = 'both')\n",
    "    axs[0].contour(ht['xt_ocean'], ht['yt_ocean'], ht, levels = [1000, 3000], colors = 'k', linewidths = 0.5)\n",
    "    \n",
    "    axs[1].text(0.98, 0.08, str(btemp['ryf'].isel(time = i)['time.year'].values)+'-'+str(btemp['ryf'].isel(time = i)['time.month'].values), \n",
    "                horizontalalignment = 'right', transform = axs[1].transAxes);\n",
    "    psi = axs[1].contourf(btemp['ryf']['xt_ocean'], btemp['ryf']['yt_ocean'], \n",
    "                          (btemp['edo'].isel(time = i)-btemp['ryf'].isel(time = i)).where(btemp['ryf'].isel(time = i)!= 0), \n",
    "                          levels = np.arange(-.2, .21, .01), cmap = 'RdBu_r', extend = 'both')\n",
    "    axs[1].contour(ht['xt_ocean'], ht['yt_ocean'], ht, levels = [1000, 3000], colors = 'k', linewidths = 0.5)\n",
    "    \n",
    "    fig.colorbar(psi, cax = axs[2], orientation = 'vertical', shrink = .5).set_label('Bottom temp. [$^{\\circ}$C]')\n",
    "    plt.savefig(figdir+'easterlies-collaborative/figs-to-animate/btemp/btemp-'+str(i).zfill(3)+'.png', facecolor = 'white', bbox_inches = 'tight')\n",
    "    plt.close()"
   ]
  },
  {
   "cell_type": "code",
   "execution_count": 108,
   "id": "3975d0b4-8c44-4c47-89a3-6cf73843ba51",
   "metadata": {},
   "outputs": [],
   "source": [
    "Parallel(n_jobs = -1)(delayed(figures_parallel)(n) for n in range(len(btemp['ryf']['time'])));"
   ]
  },
  {
   "cell_type": "markdown",
   "id": "4b9ae24d-c71c-4b2b-95fb-3a62f8cc1597",
   "metadata": {},
   "source": [
    "## Bottom salt"
   ]
  },
  {
   "cell_type": "code",
   "execution_count": 95,
   "id": "2a2291a0-4013-4502-ad8c-8e90b7c119b9",
   "metadata": {},
   "outputs": [],
   "source": [
    "salt = {}\n",
    "salt['ryf'] = cc.querying.getvar('01deg_jra55v13_ryf9091', 'salt', session, frequency = '1 monthly', start_time = '2150-01-01', end_time = '2154-12-31').sel(time = slice('2150-01-01', '2154-12-31')).sel(yt_ocean = slice(None, -50))\n",
    "salt['eup'] = cc.querying.getvar('01deg_jra55v13_ryf9091_easterlies_up10', 'salt', session, frequency = '1 monthly', start_time = '2150-01-01', end_time = '2154-12-31').sel(time = slice('2150-01-01', '2154-12-31')).sel(yt_ocean = slice(None, -50))\n",
    "salt['edo'] = cc.querying.getvar('01deg_jra55v13_ryf9091_easterlies_down10', 'salt', session, frequency = '1 monthly', start_time = '2150-01-01', end_time = '2154-12-31').sel(time = slice('2150-01-01', '2154-12-31')).sel(yt_ocean = slice(None, -50))"
   ]
  },
  {
   "cell_type": "code",
   "execution_count": 96,
   "id": "48b87c66-774d-4bab-8f83-306b9750ee1c",
   "metadata": {},
   "outputs": [],
   "source": [
    "bsalt = {}\n",
    "for k in ['ryf', 'eup', 'edo']:\n",
    "    bsalt[k] = salt[k].where(depth_array.st_ocean >= max_depth)\n",
    "    bsalt[k] = bsalt[k].sum('st_ocean')\n",
    "    bsalt[k] = bsalt[k]*shelf_mask"
   ]
  },
  {
   "cell_type": "code",
   "execution_count": 97,
   "id": "ae805cf1-63a3-49c8-938b-9fe81ba12bc0",
   "metadata": {},
   "outputs": [],
   "source": [
    "def figures_parallel(i):\n",
    "    fig, axs = figure_along_slope()\n",
    "    \n",
    "    axs[0].text(0.98, 0.08, str(bsalt['ryf'].isel(time = i)['time.year'].values)+'-'+str(bsalt['ryf'].isel(time = i)['time.month'].values), \n",
    "                horizontalalignment = 'right', transform = axs[0].transAxes);\n",
    "    psi = axs[0].contourf(bsalt['ryf']['xt_ocean'], bsalt['ryf']['yt_ocean'], \n",
    "                          (bsalt['eup'].isel(time = i)-bsalt['ryf'].isel(time = i)).where(bsalt['ryf'].isel(time = i)!= 0), \n",
    "                          levels = np.arange(-.15, .16, .01), cmap = 'RdBu_r', extend = 'both')\n",
    "    axs[0].contour(ht['xt_ocean'], ht['yt_ocean'], ht, levels = [1000, 3000], colors = 'k', linewidths = 0.5)\n",
    "    \n",
    "    axs[1].text(0.98, 0.08, str(bsalt['ryf'].isel(time = i)['time.year'].values)+'-'+str(bsalt['ryf'].isel(time = i)['time.month'].values), \n",
    "                horizontalalignment = 'right', transform = axs[1].transAxes);\n",
    "    psi = axs[1].contourf(bsalt['ryf']['xt_ocean'], bsalt['ryf']['yt_ocean'], \n",
    "                          (bsalt['edo'].isel(time = i)-bsalt['ryf'].isel(time = i)).where(bsalt['ryf'].isel(time = i)!= 0), \n",
    "                          levels = np.arange(-.15, .16, .01), cmap = 'RdBu_r', extend = 'both')\n",
    "    axs[1].contour(ht['xt_ocean'], ht['yt_ocean'], ht, levels = [1000, 3000], colors = 'k', linewidths = 0.5)\n",
    "    \n",
    "    fig.colorbar(psi, cax = axs[2], orientation = 'vertical', shrink = .5).set_label('Bottom salt.')\n",
    "    plt.savefig(figdir+'easterlies-collaborative/figs-to-animate/bsalt/bsalt-'+str(i).zfill(3)+'.png', facecolor = 'white', bbox_inches = 'tight')\n",
    "    plt.close()"
   ]
  },
  {
   "cell_type": "code",
   "execution_count": 98,
   "id": "cccb7cb5-a171-4ecf-9139-2ade43113e8c",
   "metadata": {},
   "outputs": [],
   "source": [
    "Parallel(n_jobs = -1)(delayed(figures_parallel)(n) for n in range(len(bsalt['ryf']['time'])));"
   ]
  },
  {
   "cell_type": "markdown",
   "id": "b3774595-8151-42a3-8529-718d64c73ef9",
   "metadata": {},
   "source": [
    "## Bottom age"
   ]
  },
  {
   "cell_type": "code",
   "execution_count": 100,
   "id": "bf8251f5-ef1b-4854-8fbd-462de7c33cd4",
   "metadata": {},
   "outputs": [],
   "source": [
    "age = {}\n",
    "age['ryf'] = cc.querying.getvar('01deg_jra55v13_ryf9091', 'age_global', session, frequency = '1 monthly', start_time = '2150-01-01', end_time = '2154-12-31').sel(time = slice('2150-01-01', '2154-12-31')).sel(yt_ocean = slice(None, -50))\n",
    "age['eup'] = cc.querying.getvar('01deg_jra55v13_ryf9091_easterlies_up10', 'age_global', session, frequency = '1 monthly', start_time = '2150-01-01', end_time = '2154-12-31').sel(time = slice('2150-01-01', '2154-12-31')).sel(yt_ocean = slice(None, -50))\n",
    "age['edo'] = cc.querying.getvar('01deg_jra55v13_ryf9091_easterlies_down10', 'age_global', session, frequency = '1 monthly', start_time = '2150-01-01', end_time = '2154-12-31').sel(time = slice('2150-01-01', '2154-12-31')).sel(yt_ocean = slice(None, -50))"
   ]
  },
  {
   "cell_type": "code",
   "execution_count": 101,
   "id": "9cb7ab50-40d3-4549-bcde-7611fbe451a1",
   "metadata": {},
   "outputs": [],
   "source": [
    "bage = {}\n",
    "for k in ['ryf', 'eup', 'edo']:\n",
    "    bage[k] = age[k].where(depth_array.st_ocean >= max_depth)\n",
    "    bage[k] = bage[k].sum('st_ocean')\n",
    "    bage[k] = bage[k]*shelf_mask"
   ]
  },
  {
   "cell_type": "code",
   "execution_count": 105,
   "id": "9db824ee-238d-4ee5-82da-855f2fef947b",
   "metadata": {},
   "outputs": [],
   "source": [
    "def figures_parallel(i):\n",
    "    fig, axs = figure_along_slope()\n",
    "    \n",
    "    axs[0].text(0.98, 0.08, str(bage['ryf'].isel(time = i)['time.year'].values)+'-'+str(bage['ryf'].isel(time = i)['time.month'].values), \n",
    "                horizontalalignment = 'right', transform = axs[0].transAxes);\n",
    "    psi = axs[0].contourf(bsalt['ryf']['xt_ocean'], bsalt['ryf']['yt_ocean'], \n",
    "                          (bage['eup'].isel(time = i)-bage['ryf'].isel(time = i)).where(bage['ryf'].isel(time = i)!= 0), \n",
    "                          levels = np.arange(-20, 21, 1), cmap = 'RdBu_r', extend = 'both')\n",
    "    axs[0].contour(ht['xt_ocean'], ht['yt_ocean'], ht, levels = [1000, 3000], colors = 'k', linewidths = 0.5)\n",
    "    \n",
    "    axs[1].text(0.98, 0.08, str(bage['ryf'].isel(time = i)['time.year'].values)+'-'+str(bage['ryf'].isel(time = i)['time.month'].values), \n",
    "                horizontalalignment = 'right', transform = axs[1].transAxes);\n",
    "    psi = axs[1].contourf(bage['ryf']['xt_ocean'], bage['ryf']['yt_ocean'], \n",
    "                          (bage['edo'].isel(time = i)-bage['ryf'].isel(time = i)).where(bage['ryf'].isel(time = i)!= 0), \n",
    "                          levels = np.arange(-20, 21, 1), cmap = 'RdBu_r', extend = 'both')\n",
    "    axs[1].contour(ht['xt_ocean'], ht['yt_ocean'], ht, levels = [1000, 3000], colors = 'k', linewidths = 0.5)\n",
    "    \n",
    "    fig.colorbar(psi, cax = axs[2], orientation = 'vertical', shrink = .5).set_label('Bottom age [years]')\n",
    "    plt.savefig(figdir+'easterlies-collaborative/figs-to-animate/bage/bage-'+str(i).zfill(3)+'.png', facecolor = 'white', bbox_inches = 'tight')\n",
    "    plt.close()"
   ]
  },
  {
   "cell_type": "code",
   "execution_count": 106,
   "id": "d7ac2162-f9b6-4b98-9dd3-1e6da7fbc2c5",
   "metadata": {},
   "outputs": [],
   "source": [
    "Parallel(n_jobs = -1)(delayed(figures_parallel)(n) for n in range(len(bage['ryf']['time'])));"
   ]
  }
 ],
 "metadata": {
  "kernelspec": {
   "display_name": "Python [conda env:analysis3-21.04]",
   "language": "python",
   "name": "conda-env-analysis3-21.04-py"
  },
  "language_info": {
   "codemirror_mode": {
    "name": "ipython",
    "version": 3
   },
   "file_extension": ".py",
   "mimetype": "text/x-python",
   "name": "python",
   "nbconvert_exporter": "python",
   "pygments_lexer": "ipython3",
   "version": "3.8.10"
  }
 },
 "nbformat": 4,
 "nbformat_minor": 5
}
