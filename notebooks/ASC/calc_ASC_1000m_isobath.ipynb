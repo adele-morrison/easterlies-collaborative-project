{
 "cells": [
  {
   "cell_type": "markdown",
   "metadata": {},
   "source": [
    "# Calculate along-slope velocity along the 1000 m isobath for easterly simulations\n",
    "The simulations run from '2150-01-01' to '2164-12-31'"
   ]
  },
  {
   "cell_type": "code",
   "execution_count": 1,
   "metadata": {},
   "outputs": [],
   "source": [
    "%matplotlib inline\n",
    "\n",
    "import cosima_cookbook as cc\n",
    "import matplotlib.pyplot as plt\n",
    "import numpy as np\n",
    "import netCDF4 as nc\n",
    "import cartopy.crs as ccrs\n",
    "import xarray as xr\n",
    "import cmocean.cm as cmocean\n",
    "import glob\n",
    "import xgcm\n",
    "import xarray.ufuncs as xu\n",
    "\n",
    "import logging\n",
    "logging.captureWarnings(True)\n",
    "logging.getLogger('py.warnings').setLevel(logging.ERROR)\n",
    "\n",
    "from dask.distributed import Client\n",
    "\n",
    "#figdir = '/g/data/v45/akm157/figures/easterlies/perturbation_check/'"
   ]
  },
  {
   "cell_type": "code",
   "execution_count": 2,
   "metadata": {},
   "outputs": [
    {
     "data": {
      "text/html": [
       "<table style=\"border: 2px solid white;\">\n",
       "<tr>\n",
       "<td style=\"vertical-align: top; border: 0px solid white\">\n",
       "<h3 style=\"text-align: left;\">Client</h3>\n",
       "<ul style=\"text-align: left; list-style: none; margin: 0; padding: 0;\">\n",
       "  <li><b>Scheduler: </b>tcp://127.0.0.1:36197</li>\n",
       "  <li><b>Dashboard: </b><a href='/proxy/40195/status' target='_blank'>/proxy/40195/status</a></li>\n",
       "</ul>\n",
       "</td>\n",
       "<td style=\"vertical-align: top; border: 0px solid white\">\n",
       "<h3 style=\"text-align: left;\">Cluster</h3>\n",
       "<ul style=\"text-align: left; list-style:none; margin: 0; padding: 0;\">\n",
       "  <li><b>Workers: </b>4</li>\n",
       "  <li><b>Cores: </b>16</li>\n",
       "  <li><b>Memory: </b>64.00 GiB</li>\n",
       "</ul>\n",
       "</td>\n",
       "</tr>\n",
       "</table>"
      ],
      "text/plain": [
       "<Client: 'tcp://127.0.0.1:36197' processes=4 threads=16, memory=64.00 GiB>"
      ]
     },
     "execution_count": 2,
     "metadata": {},
     "output_type": "execute_result"
    }
   ],
   "source": [
    "client = Client()\n",
    "client"
   ]
  },
  {
   "cell_type": "code",
   "execution_count": 3,
   "metadata": {},
   "outputs": [],
   "source": [
    "# database for control simulation:\n",
    "master_session = cc.database.create_session('/g/data/ik11/databases/cosima_master.db')\n",
    "control = '01deg_jra55v13_ryf9091'\n",
    "\n",
    "# database for perturbations:\n",
    "easterlies_session = cc.database.create_session('/g/data/v45/akm157/model_data/access-om2/01deg_jra55v13_ryf9091_easterlies_up10/easterlies.db')\n",
    "# 10% increase in easterly wind speed:\n",
    "easterlies_up = '01deg_jra55v13_ryf9091_easterlies_up10'\n",
    "# 10% decrease in easterly wind speed:\n",
    "easterlies_down = '01deg_jra55v13_ryf9091_easterlies_down10'\n",
    "\n",
    "# plot anomalies for last 5 years of simulation:\n",
    "start_time='2160-01-01'\n",
    "end_time='2164-12-31'\n",
    "\n",
    "lat_slice  = slice(-80,-58)"
   ]
  },
  {
   "cell_type": "markdown",
   "metadata": {},
   "source": [
    "Bathymetry"
   ]
  },
  {
   "cell_type": "code",
   "execution_count": 4,
   "metadata": {},
   "outputs": [],
   "source": [
    "# topography data for plotting (on u-grid):\n",
    "hu = cc.querying.getvar(control,'hu' , master_session,n=1)\n",
    "land_mask = np.squeeze(hu.values)*0\n",
    "land_mask[np.isnan(land_mask)] = 1\n",
    "land_mask = np.where(land_mask==1,land_mask,np.nan)\n",
    "\n",
    "hu = hu.sel(yu_ocean=lat_slice)\n",
    "\n",
    "fontsize=16"
   ]
  },
  {
   "cell_type": "markdown",
   "metadata": {},
   "source": [
    "Topographic gradient"
   ]
  },
  {
   "cell_type": "code",
   "execution_count": 5,
   "metadata": {},
   "outputs": [],
   "source": [
    "path_to_folder = '/g/data/ik11/outputs/access-om2-01/01deg_jra55v13_ryf9091/output000/ocean/'\n",
    "grid = xr.open_mfdataset(path_to_folder+'ocean_grid.nc', combine='by_coords')\n",
    "\n",
    "ds = xr.merge([hu, grid])\n",
    "ds.coords['xt_ocean'].attrs.update(axis='X')\n",
    "ds.coords['xu_ocean'].attrs.update(axis='X', c_grid_axis_shift=0.5)\n",
    "ds.coords['yt_ocean'].attrs.update(axis='Y')\n",
    "ds.coords['yu_ocean'].attrs.update(axis='Y', c_grid_axis_shift=0.5)\n",
    "\n",
    "grid = xgcm.Grid(ds, periodic=['X'])"
   ]
  },
  {
   "cell_type": "code",
   "execution_count": 6,
   "metadata": {},
   "outputs": [],
   "source": [
    "# Take gradient and move to u grid\n",
    "# Simple gradient over one grid cell. \n",
    "# In latitudinal direction, we need to specify what happens at the boundary.\n",
    "dhu_dx = grid.interp( grid.diff(ds.hu, 'X') / grid.interp(ds.dxu, 'X'), 'X')#, 'Y', boundary='extend')\n",
    "dhu_dy = grid.interp( grid.diff(ds.hu, 'Y', boundary='extend') / grid.interp(ds.dyt, 'X'), 'Y', boundary='extend')# 'X')\n",
    "\n",
    "# Select latitude slice\n",
    "dhu_dx = dhu_dx.sel(yu_ocean=lat_slice)\n",
    "dhu_dy = dhu_dy.sel(yu_ocean=lat_slice)"
   ]
  },
  {
   "cell_type": "code",
   "execution_count": 7,
   "metadata": {},
   "outputs": [],
   "source": [
    "# Calculate the magnitude of the topographic slope\n",
    "slope = xu.sqrt(dhu_dx**2 + dhu_dy**2)"
   ]
  },
  {
   "cell_type": "markdown",
   "metadata": {},
   "source": [
    "Grid cell thickness"
   ]
  },
  {
   "cell_type": "code",
   "execution_count": 8,
   "metadata": {},
   "outputs": [],
   "source": [
    "u = cc.querying.getvar(control, 'u', master_session,frequency='1 monthly',start_time='2160-01-01', end_time='2160-01-31')\n",
    "u = u.sel(yu_ocean=lat_slice).sel(time=slice('2160-01-01','2160-01-31'))\n",
    "\n",
    "# import edges of st_ocean and add lat/lon dimensions:\n",
    "st_edges_ocean = cc.querying.getvar(control, 'st_edges_ocean', master_session, start_time=start_time, end_time=end_time, n=1)\n",
    "st_edges_array = st_edges_ocean.expand_dims({'yu_ocean':u.yu_ocean,'xu_ocean':u.xu_ocean}, axis=[1,2])\n",
    "\n",
    "# adjust edges at bottom for partial thickness:\n",
    "st_edges_with_partial = st_edges_array.where(st_edges_array<hu, other=hu)\n",
    "thickness = st_edges_with_partial.diff(dim='st_edges_ocean')\n",
    "\n",
    "# change coordinate of thickness to st_ocean (needed for multipling with other variables):\n",
    "st_ocean = cc.querying.getvar(control, 'st_ocean', master_session, n=1)\n",
    "thickness['st_edges_ocean'] = st_ocean.values\n",
    "thickness = thickness.rename(({'st_edges_ocean':'st_ocean'}))"
   ]
  },
  {
   "cell_type": "markdown",
   "metadata": {},
   "source": [
    "Load the isobath information"
   ]
  },
  {
   "cell_type": "code",
   "execution_count": 9,
   "metadata": {},
   "outputs": [],
   "source": [
    "isobath_depth = 1000\n",
    "\n",
    "file_path = '/g/data/x77/wgh581/Post_Process/Antarctic_slope_contour_u_t_' + str(isobath_depth) + 'm_plt_approach.npz'\n",
    "data = np.load(file_path)\n",
    "\n",
    "# We are interested in the u-grid:\n",
    "num_points = data['num_points_u']\n",
    "distance_along_contour = data['distance_along_contour_u']\n",
    "lon_along_contour = data['lon_along_contour_u']\n",
    "lat_along_contour = data['lat_along_contour_u']"
   ]
  },
  {
   "cell_type": "markdown",
   "metadata": {},
   "source": [
    "### Along-slope component along 1 km isobath\n"
   ]
  },
  {
   "cell_type": "code",
   "execution_count": 10,
   "metadata": {},
   "outputs": [],
   "source": [
    "#%%time\n",
    "\n",
    "def get_data_along_1km_isobath(expt, session):\n",
    "    \n",
    "    # Define empty array\n",
    "    u_along_contour = np.zeros((12, len(u.st_ocean), len(lon_along_contour)))\n",
    "    u_btr_contour   = np.zeros((12, len(lon_along_contour)))\n",
    "\n",
    "    # Load data\n",
    "    u_tmp = cc.querying.getvar(expt, 'u', session, start_time=start_time, end_time=end_time, frequency='1 monthly')\n",
    "    u_tmp = u_tmp.sel(time=slice(start_time,end_time)).sel(yu_ocean=lat_slice)\n",
    "    v_tmp = cc.querying.getvar(expt, 'v', session, start_time=start_time, end_time=end_time, frequency='1 monthly')\n",
    "    v_tmp = v_tmp.sel(time=slice(start_time,end_time)).sel(yu_ocean=lat_slice)\n",
    "\n",
    "    # Monthly climatology\n",
    "    u_tmp  = u_tmp.groupby('time.month').mean('time')\n",
    "    v_tmp  = v_tmp.groupby('time.month').mean('time')\n",
    "\n",
    "    print(np.shape(u_tmp))\n",
    "\n",
    "    # Rotate velocity\n",
    "    u_along = u_tmp*dhu_dy/slope - v_tmp*dhu_dx/slope\n",
    "\n",
    "    # Barotropic velocity\n",
    "    u_btr = (u_along * thickness).sum('st_ocean') / thickness.sum('st_ocean')\n",
    "\n",
    "    # Load data (takes time, but unfortunately required for selection of isobath points)\n",
    "    u_along = u_along.load()\n",
    "    u_btr   = u_btr.load()\n",
    "\n",
    "    # Finally select velocity along contour \n",
    "    for ii in range(num_points):\n",
    "        u_along_contour[:,:,ii] = u_along.sel(xu_ocean=lon_along_contour[ii], method='nearest').sel(yu_ocean=lat_along_contour[ii], method='nearest')\n",
    "    for ii in range(num_points):\n",
    "        u_btr_contour[:,ii] = u_btr.sel(xu_ocean=lon_along_contour[ii], method='nearest').sel(yu_ocean=lat_along_contour[ii], method='nearest')\n",
    "\n",
    "#     u_along_contour_tmp = np.zeros((12, len(u_along.st_ocean), num_points))\n",
    "#     for ii in range(num_points):\n",
    "#         u_along_contour_tmp[:,:,ii] = u_along.sel(xu_ocean=lon_along_contour[ii], method='nearest').sel(yu_ocean=lat_along_contour[ii], method='nearest')\n",
    "#     u_btr_contour_tmp = np.zeros((12,num_points))\n",
    "#     for ii in range(num_points):\n",
    "#         u_btr_contour_tmp[:,ii] = u_btr.sel(xu_ocean=lon_along_contour[ii], method='nearest').sel(yu_ocean=lat_along_contour[ii], method='nearest')\n",
    "\n",
    "#     u_along_contour[yy,:,:,:] = u_along_contour_tmp\n",
    "#     u_btr_contour[yy,:,:]     = u_btr_contour_tmp\n",
    "            \n",
    "    return u_along_contour, u_btr_contour"
   ]
  },
  {
   "cell_type": "code",
   "execution_count": 22,
   "metadata": {},
   "outputs": [
    {
     "name": "stdout",
     "output_type": "stream",
     "text": [
      "(12, 75, 503, 3600)\n",
      "CPU times: user 3min 16s, sys: 21.8 s, total: 3min 38s\n",
      "Wall time: 4min 30s\n"
     ]
    }
   ],
   "source": [
    "%%time\n",
    "u_con, u_btr_con = get_data_along_1km_isobath(control, master_session)"
   ]
  },
  {
   "cell_type": "code",
   "execution_count": 30,
   "metadata": {},
   "outputs": [
    {
     "name": "stdout",
     "output_type": "stream",
     "text": [
      "(12, 75, 503, 3600)\n"
     ]
    }
   ],
   "source": [
    "u_down, u_btr_down = get_data_along_1km_isobath(easterlies_down, easterlies_session)"
   ]
  },
  {
   "cell_type": "code",
   "execution_count": 23,
   "metadata": {},
   "outputs": [
    {
     "data": {
      "text/plain": [
       "(12, 75, 4487)"
      ]
     },
     "execution_count": 23,
     "metadata": {},
     "output_type": "execute_result"
    }
   ],
   "source": [
    "np.shape(u_con)"
   ]
  },
  {
   "cell_type": "code",
   "execution_count": 24,
   "metadata": {},
   "outputs": [
    {
     "data": {
      "text/plain": [
       "<matplotlib.colorbar.Colorbar at 0x1540d6ea4130>"
      ]
     },
     "execution_count": 24,
     "metadata": {},
     "output_type": "execute_result"
    },
    {
     "data": {
      "image/png": "[encoded data removed]",
      "text/plain": [
       "<Figure size 640x480 with 2 Axes>"
      ]
     },
     "metadata": {},
     "output_type": "display_data"
    }
   ],
   "source": [
    "fig = plt.figure()\n",
    "\n",
    "plt.pcolormesh(np.nanmean(u_con,axis=0), vmin=-0.2, vmax=0.2, cmap='RdBu_r')\n",
    "plt.colorbar()"
   ]
  },
  {
   "cell_type": "code",
   "execution_count": null,
   "metadata": {},
   "outputs": [],
   "source": [
    "# Grid cell thickness\n",
    "thickness_contour = np.zeros((len(thickness.st_ocean), num_points))\n",
    "for ii in range(num_points):\n",
    "    thickness_contour[:,ii] = thickness.sel(xu_ocean=lon_along_contour[ii], method='nearest').sel(yu_ocean=lat_along_contour[ii], method='nearest')"
   ]
  },
  {
   "cell_type": "code",
   "execution_count": 31,
   "metadata": {},
   "outputs": [],
   "source": [
    "import os\n",
    "#save_dir  = '/g/data/x77/wgh581/Post_Process/'\n",
    "#file_name = 'Antarctic_slope_contour_1km_velocities'\n",
    "file_name = 'Antarctic_slope_1000m_contour_down'\n",
    "outfile   = os.path.join(file_name+'.npz')\n",
    "\n",
    "np.savez(outfile, u_along_contour=u_down, u_btr_contour=u_btr_down, \\\n",
    "         lat_along_contour=lat_along_contour, lon_along_contour=lon_along_contour, \\\n",
    "         num_points=num_points, distance_along_contour=distance_along_contour, \\\n",
    "         st_ocean=thickness.st_ocean, thickness_contour=thickness_contour)"
   ]
  },
  {
   "cell_type": "markdown",
   "metadata": {},
   "source": [
    "---"
   ]
  },
  {
   "cell_type": "markdown",
   "metadata": {},
   "source": [
    "Repeat for first year of model run"
   ]
  },
  {
   "cell_type": "code",
   "execution_count": 11,
   "metadata": {},
   "outputs": [],
   "source": [
    "start_time='2150-01-01'\n",
    "end_time='2150-12-31'"
   ]
  },
  {
   "cell_type": "code",
   "execution_count": 12,
   "metadata": {},
   "outputs": [
    {
     "name": "stdout",
     "output_type": "stream",
     "text": [
      "(12, 75, 503, 3600)\n",
      "CPU times: user 1min 19s, sys: 18 s, total: 1min 37s\n",
      "Wall time: 2min 16s\n"
     ]
    }
   ],
   "source": [
    "%%time\n",
    "u_con, u_btr_con = get_data_along_1km_isobath(control, master_session)"
   ]
  },
  {
   "cell_type": "code",
   "execution_count": 13,
   "metadata": {},
   "outputs": [
    {
     "name": "stdout",
     "output_type": "stream",
     "text": [
      "(12, 75, 503, 3600)\n"
     ]
    }
   ],
   "source": [
    "u_up, u_btr_up = get_data_along_1km_isobath(easterlies_up, easterlies_session)"
   ]
  },
  {
   "cell_type": "code",
   "execution_count": 14,
   "metadata": {},
   "outputs": [
    {
     "name": "stdout",
     "output_type": "stream",
     "text": [
      "(12, 75, 503, 3600)\n"
     ]
    }
   ],
   "source": [
    "u_down, u_btr_down = get_data_along_1km_isobath(easterlies_down, easterlies_session)"
   ]
  },
  {
   "cell_type": "markdown",
   "metadata": {},
   "source": [
    "Save data (without any extra information)"
   ]
  },
  {
   "cell_type": "code",
   "execution_count": 18,
   "metadata": {},
   "outputs": [],
   "source": [
    "import os\n",
    "\n",
    "file_name = 'Antarctic_slope_1000m_contour_year1_con'\n",
    "outfile   = os.path.join(file_name+'.npz')\n",
    "\n",
    "np.savez(outfile, u_along_contour=u_con, u_btr_contour=u_btr_con)"
   ]
  },
  {
   "cell_type": "code",
   "execution_count": null,
   "metadata": {},
   "outputs": [],
   "source": []
  }
 ],
 "metadata": {
  "kernelspec": {
   "display_name": "Python [conda env:analysis3-22.04]",
   "language": "python",
   "name": "conda-env-analysis3-22.04-py"
  },
  "language_info": {
   "codemirror_mode": {
    "name": "ipython",
    "version": 3
   },
   "file_extension": ".py",
   "mimetype": "text/x-python",
   "name": "python",
   "nbconvert_exporter": "python",
   "pygments_lexer": "ipython3",
   "version": "3.9.13"
  }
 },
 "nbformat": 4,
 "nbformat_minor": 4
}
