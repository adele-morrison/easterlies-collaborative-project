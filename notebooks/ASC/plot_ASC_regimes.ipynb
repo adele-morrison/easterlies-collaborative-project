{
 "cells": [
  {
   "cell_type": "markdown",
   "metadata": {},
   "source": [
    "# ASC regimes for control and easterlies perturbations\n",
    "\n",
    "The velocity data are calculated and saved in 'calc_ASC_1000m_isobath.ipynb' and are a climatology of the last 5 years of the simulation (2160-2164).\n",
    "\n",
    "The regime classification considers the orientation of the barotropic along-slope velocity as well as whether the flow is surface-intensified or bottom-intensified. "
   ]
  },
  {
   "cell_type": "code",
   "execution_count": 14,
   "metadata": {},
   "outputs": [],
   "source": [
    "%matplotlib inline\n",
    "\n",
    "import cosima_cookbook as cc\n",
    "import matplotlib.pyplot as plt\n",
    "import numpy as np\n",
    "import netCDF4 as nc\n",
    "import cartopy.crs as ccrs\n",
    "import xarray as xr\n",
    "import cmocean.cm as cmocean\n",
    "import glob\n",
    "import xgcm\n",
    "import xarray.ufuncs as xu\n",
    "from collections import Counter\n",
    "import more_itertools\n",
    "\n",
    "import logging\n",
    "logging.captureWarnings(True)\n",
    "logging.getLogger('py.warnings').setLevel(logging.ERROR)\n",
    "\n",
    "from dask.distributed import Client\n",
    "\n",
    "#figdir = '/g/data/v45/akm157/figures/easterlies/perturbation_check/'"
   ]
  },
  {
   "cell_type": "code",
   "execution_count": 4,
   "metadata": {},
   "outputs": [
    {
     "data": {
      "text/html": [
       "<table style=\"border: 2px solid white;\">\n",
       "<tr>\n",
       "<td style=\"vertical-align: top; border: 0px solid white\">\n",
       "<h3 style=\"text-align: left;\">Client</h3>\n",
       "<ul style=\"text-align: left; list-style: none; margin: 0; padding: 0;\">\n",
       "  <li><b>Scheduler: </b>tcp://127.0.0.1:33727</li>\n",
       "  <li><b>Dashboard: </b><a href='/proxy/39687/status' target='_blank'>/proxy/39687/status</a></li>\n",
       "</ul>\n",
       "</td>\n",
       "<td style=\"vertical-align: top; border: 0px solid white\">\n",
       "<h3 style=\"text-align: left;\">Cluster</h3>\n",
       "<ul style=\"text-align: left; list-style:none; margin: 0; padding: 0;\">\n",
       "  <li><b>Workers: </b>4</li>\n",
       "  <li><b>Cores: </b>16</li>\n",
       "  <li><b>Memory: </b>64.00 GiB</li>\n",
       "</ul>\n",
       "</td>\n",
       "</tr>\n",
       "</table>"
      ],
      "text/plain": [
       "<Client: 'tcp://127.0.0.1:33727' processes=4 threads=16, memory=64.00 GiB>"
      ]
     },
     "execution_count": 4,
     "metadata": {},
     "output_type": "execute_result"
    }
   ],
   "source": [
    "client = Client()\n",
    "client"
   ]
  },
  {
   "cell_type": "code",
   "execution_count": 5,
   "metadata": {},
   "outputs": [],
   "source": [
    "# database for control simulation:\n",
    "master_session = cc.database.create_session('/g/data/ik11/databases/cosima_master.db')\n",
    "control = '01deg_jra55v13_ryf9091'\n",
    "\n",
    "# database for perturbations:\n",
    "easterlies_session = cc.database.create_session('/g/data/v45/akm157/model_data/access-om2/01deg_jra55v13_ryf9091_easterlies_up10/easterlies.db')\n",
    "# 10% increase in easterly wind speed:\n",
    "easterlies_up = '01deg_jra55v13_ryf9091_easterlies_up10'\n",
    "# 10% decrease in easterly wind speed:\n",
    "easterlies_down = '01deg_jra55v13_ryf9091_easterlies_down10'\n",
    "\n",
    "# plot anomalies for last 5 years of simulation:\n",
    "start_time='2160-01-01'\n",
    "end_time='2164-12-31'\n",
    "\n",
    "lat_slice  = slice(-80,-58)"
   ]
  },
  {
   "cell_type": "markdown",
   "metadata": {},
   "source": [
    "Along-slope velocity along 1000m isobath"
   ]
  },
  {
   "cell_type": "code",
   "execution_count": 6,
   "metadata": {},
   "outputs": [
    {
     "data": {
      "text/plain": [
       "['u_along_contour',\n",
       " 'u_btr_contour',\n",
       " 'lat_along_contour',\n",
       " 'lon_along_contour',\n",
       " 'num_points',\n",
       " 'distance_along_contour',\n",
       " 'st_ocean',\n",
       " 'thickness_contour']"
      ]
     },
     "execution_count": 6,
     "metadata": {},
     "output_type": "execute_result"
    }
   ],
   "source": [
    "# Load dataset\n",
    "file_name = 'Antarctic_slope_1000m_contour_con.npz'\n",
    "data_con  = np.load(file_name)\n",
    "file_name = 'Antarctic_slope_1000m_contour_up.npz'\n",
    "data_up   = np.load(file_name)\n",
    "file_name = 'Antarctic_slope_1000m_contour_down.npz'\n",
    "data_down = np.load(file_name)\n",
    "# Velocity\n",
    "u_con      = data_con['u_along_contour']\n",
    "u_btr_con  = data_con['u_btr_contour']\n",
    "u_up       = data_up['u_along_contour']\n",
    "u_btr_up   = data_up['u_btr_contour']\n",
    "u_down     = data_down['u_along_contour']\n",
    "u_btr_down = data_down['u_btr_contour']\n",
    "# Other info\n",
    "st_ocean  = data_con['st_ocean']\n",
    "lat_along_contour = data_con['lat_along_contour']\n",
    "lon_along_contour = data_con['lon_along_contour']\n",
    "distance  = data_con['distance_along_contour']\n",
    "thickness = data_con['thickness_contour']\n",
    "num_points = data_con['num_points']\n",
    "# Print available info in dataset\n",
    "data_con.files"
   ]
  },
  {
   "cell_type": "code",
   "execution_count": 7,
   "metadata": {},
   "outputs": [],
   "source": [
    "distance[-1] = distance[-2]+1"
   ]
  },
  {
   "cell_type": "markdown",
   "metadata": {},
   "source": [
    "Annual mean"
   ]
  },
  {
   "cell_type": "code",
   "execution_count": 8,
   "metadata": {},
   "outputs": [],
   "source": [
    "u_con      = u_con.mean(axis=0)\n",
    "u_btr_con  = u_btr_con.mean(axis=0)\n",
    "u_up       = u_up.mean(axis=0)\n",
    "u_btr_up   = u_btr_up.mean(axis=0)\n",
    "u_down     = u_down.mean(axis=0)\n",
    "u_btr_down = u_btr_down.mean(axis=0)"
   ]
  },
  {
   "cell_type": "markdown",
   "metadata": {},
   "source": [
    "Depth information"
   ]
  },
  {
   "cell_type": "code",
   "execution_count": 9,
   "metadata": {},
   "outputs": [],
   "source": [
    "# Array that has the depth levels\n",
    "depth_array = np.zeros((np.size(u_con,0), np.size(u_con,1)))\n",
    "for ii in range(np.size(u_con,1)):\n",
    "    depth_array[:,ii] = u_con[:,ii] * 0 + st_ocean\n",
    "# Get max depth of data (skipping nans)\n",
    "max_depth = np.nanmax(depth_array, axis=0) "
   ]
  },
  {
   "cell_type": "code",
   "execution_count": 10,
   "metadata": {},
   "outputs": [],
   "source": [
    "st_ocean_2d = np.tile(st_ocean, (np.size(thickness, 1),1)).transpose()"
   ]
  },
  {
   "cell_type": "markdown",
   "metadata": {},
   "source": [
    "Define some functions"
   ]
  },
  {
   "cell_type": "code",
   "execution_count": 11,
   "metadata": {},
   "outputs": [],
   "source": [
    "# Function to smooth data alogn the 1000 m isobath\n",
    "def running_mean_2d(in_data, N):\n",
    "    out_data = np.empty((np.shape(in_data)[0],np.shape(in_data)[1]))\n",
    "    for yy in range(np.shape(in_data)[0]):\n",
    "        cumsum_tmp = np.nancumsum(np.insert(in_data[yy,:], 0, np.nan))\n",
    "        out_data[yy,int(N/2):-int(N/2)+1] = (cumsum_tmp[N:] - cumsum_tmp[:-N]) / float(N)\n",
    "    return out_data\n",
    "\n",
    "def running_mean_1d(in_data, N):\n",
    "    out_data = np.empty((np.shape(in_data)[0]))\n",
    "    cumsum_tmp = np.nancumsum(np.insert(in_data, 0, np.nan))\n",
    "    out_data[int(N/2):-int(N/2)+1] = (cumsum_tmp[N:] - cumsum_tmp[:-N]) / float(N)\n",
    "    return out_data"
   ]
  },
  {
   "cell_type": "code",
   "execution_count": 12,
   "metadata": {},
   "outputs": [],
   "source": [
    "# Function to calculate regimes\n",
    "\n",
    "def calculate_ASC_regimes(data_full, data_btr):\n",
    "\n",
    "    # Smooth velocity along the 1000 m isobath\n",
    "    N = 20\n",
    "    data_smoothed     = running_mean_2d(data_full, N)\n",
    "    data_btr_smoothed = running_mean_1d(data_btr, N)\n",
    "    \n",
    "    # Surface-intensified prograde flow: 0\n",
    "    ASC_regimes_tmp = np.zeros(num_points)\n",
    "    \n",
    "    # Bottom-intensified prograde flow: 1\n",
    "    upper_depth = 200 # m\n",
    "    lower_depth = 200 # m\n",
    "    n_val = 0.5\n",
    "    thickness_lower = np.where(st_ocean_2d >= max_depth-lower_depth, thickness, np.nan)\n",
    "    u_lower         = np.where(st_ocean_2d >= max_depth-lower_depth, data_smoothed, np.nan)\n",
    "    thickness_upper = np.where(st_ocean_2d <= upper_depth, thickness, np.nan)\n",
    "    u_upper         = np.where(st_ocean_2d <= upper_depth, data_smoothed, np.nan)\n",
    "    # Vertical averaging\n",
    "    u_lower = np.nansum(u_lower * thickness_lower, axis=0) / np.nansum(thickness_lower, axis=0)\n",
    "    u_upper = np.nansum(u_upper * thickness_upper, axis=0) / np.nansum(thickness_upper, axis=0)\n",
    "    # Check if surface flow < bottom flow\n",
    "    ASC_regimes_tmp[np.abs(u_upper)*n_val <= np.abs(u_lower)] = 1\n",
    "    \n",
    "    # Retrograde flow: 2\n",
    "    ASC_regimes_tmp[data_btr_smoothed > 0] = 2\n",
    "\n",
    "    # Along-slope smoothing of ASC regimes\n",
    "    windowed_ASC_regimes_tmp = list(more_itertools.windowed(ASC_regimes_tmp, n=N))\n",
    "    # Create a new (final) array for the regime information and give it the predominant value from that window\n",
    "    ASC_regimes = np.zeros(num_points)\n",
    "    for ii in range(np.size(windowed_ASC_regimes_tmp, 0)-1):\n",
    "        tmp = Counter(windowed_ASC_regimes_tmp[ii]).most_common(1)[0][0]\n",
    "        ASC_regimes[ii+int(N/2)] = tmp\n",
    "    \n",
    "    # Finished\n",
    "    return ASC_regimes"
   ]
  },
  {
   "cell_type": "code",
   "execution_count": 20,
   "metadata": {},
   "outputs": [],
   "source": [
    "# Control\n",
    "ASC_regimes_con = calculate_ASC_regimes(u_con, u_btr_con)\n",
    "# Easterlies UP\n",
    "ASC_regimes_up = calculate_ASC_regimes(u_up, u_btr_up)\n",
    "# Easterlies DOWN\n",
    "ASC_regimes_down = calculate_ASC_regimes(u_down, u_btr_down)\n",
    "\n",
    "# In one array\n",
    "ASC_regimes = np.vstack((ASC_regimes_down, ASC_regimes_up, ASC_regimes_con))"
   ]
  },
  {
   "cell_type": "markdown",
   "metadata": {},
   "source": [
    "Plot ASC regimes"
   ]
  },
  {
   "cell_type": "code",
   "execution_count": 16,
   "metadata": {},
   "outputs": [],
   "source": [
    "ft_size   = 16\n",
    "title_name = ['u_along control', 'u_along change for easterlies increase', 'u_along change for easterlies decrease']"
   ]
  },
  {
   "cell_type": "code",
   "execution_count": 17,
   "metadata": {},
   "outputs": [],
   "source": [
    "# Costum colormap\n",
    "import matplotlib\n",
    "# colorsList_no4 = [('lightgreen'),('blueviolet'),('tomato'),('c')]\n",
    "# CustomCmap_no4 = matplotlib.colors.ListedColormap(colorsList_no4)\n",
    "colorsList_no3 = [('lightgreen'),('blueviolet'),('tomato')]\n",
    "CustomCmap_no3 = matplotlib.colors.ListedColormap(colorsList_no3)"
   ]
  },
  {
   "cell_type": "code",
   "execution_count": 50,
   "metadata": {},
   "outputs": [
    {
     "data": {
      "image/png": "[encoded data removed]",
      "text/plain": [
       "<Figure size 1000x200 with 1 Axes>"
      ]
     },
     "metadata": {},
     "output_type": "display_data"
    }
   ],
   "source": [
    "fig = plt.figure(figsize=(10,2))\n",
    "\n",
    "ax = plt.subplot(111)\n",
    "plt.pcolormesh(distance, np.arange(0, 4, 1), ASC_regimes, cmap=CustomCmap_no3)\n",
    "plt.xlabel('Distance along the 1000 m isobath (km)', fontsize=ft_size)\n",
    "ax.tick_params(labelsize=ft_size-2)\n",
    "plt.yticks(ticks=np.arange(0.5, 3, 1), labels=['DOWN', 'UP', 'CON'])\n",
    "plt.axhline(1, color='k', linewidth=0.5)\n",
    "plt.axhline(2, color='k', linewidth=0.5)\n",
    "plt.tick_params(axis='y', length = 0)\n",
    "\n",
    "plt.text(500, 3.2, 'Surface-intensified', color='lightgreen', fontweight='bold')\n",
    "plt.text(5500, 3.2, 'Bottom-intensified', color='blueviolet', fontweight='bold')\n",
    "plt.text(10500, 3.2, 'Reversed', color='tomato', fontweight='bold')\n",
    "\n",
    "# Save figure\n",
    "save_fig = 1\n",
    "if save_fig == 1:\n",
    "    fig_name = 'Fig_ASC_regimes_easterlies_pert.png'\n",
    "    plt.savefig(fig_name, dpi=150, bbox_inches='tight', facecolor='white')"
   ]
  },
  {
   "cell_type": "markdown",
   "metadata": {},
   "source": [
    "Things to note:\n",
    "- Little change between the control run and the easterlies perturbations\n",
    "- UP case: bottom-intensified ASC extended (mostly upstream end)\n",
    "- DOWN case: bottom-intensified ASC slightly less, replaced by surface-intensified ASC"
   ]
  },
  {
   "cell_type": "markdown",
   "metadata": {},
   "source": [
    "---"
   ]
  },
  {
   "cell_type": "markdown",
   "metadata": {},
   "source": [
    "Next: seasonality per regime for each simulation"
   ]
  },
  {
   "cell_type": "code",
   "execution_count": null,
   "metadata": {},
   "outputs": [],
   "source": []
  }
 ],
 "metadata": {
  "kernelspec": {
   "display_name": "Python [conda env:analysis3-21.04]",
   "language": "python",
   "name": "conda-env-analysis3-21.04-py"
  },
  "language_info": {
   "codemirror_mode": {
    "name": "ipython",
    "version": 3
   },
   "file_extension": ".py",
   "mimetype": "text/x-python",
   "name": "python",
   "nbconvert_exporter": "python",
   "pygments_lexer": "ipython3",
   "version": "3.8.10"
  }
 },
 "nbformat": 4,
 "nbformat_minor": 4
}
